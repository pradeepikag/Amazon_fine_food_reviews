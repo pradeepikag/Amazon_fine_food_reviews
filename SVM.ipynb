{
 "cells": [
  {
   "cell_type": "code",
   "execution_count": 99,
   "metadata": {},
   "outputs": [],
   "source": [
    "%matplotlib inline\n",
    "import warnings\n",
    "warnings.filterwarnings(\"ignore\")\n",
    "\n",
    "import sqlite3\n",
    "import pandas as pd\n",
    "import numpy as np\n",
    "import nltk\n",
    "import string\n",
    "from sklearn.feature_extraction.text import TfidfTransformer\n",
    "from sklearn.feature_extraction.text import TfidfVectorizer\n",
    "\n",
    "from sklearn.feature_extraction.text import CountVectorizer\n",
    "from sklearn.cross_validation import train_test_split\n",
    "from sklearn.metrics import confusion_matrix\n",
    "from sklearn import metrics\n",
    "from sklearn.metrics import roc_curve, auc\n",
    "from nltk.stem.porter import PorterStemmer\n",
    "\n",
    "import re\n",
    "import string\n",
    "from nltk.corpus import stopwords\n",
    "from nltk.stem import PorterStemmer\n",
    "from nltk.stem.wordnet import WordNetLemmatizer\n",
    "\n",
    "#import packages for w2v\n",
    "from gensim.models import Word2Vec\n",
    "from gensim.models import KeyedVectors\n",
    "import pickle"
   ]
  },
  {
   "cell_type": "markdown",
   "metadata": {},
   "source": [
    "# RBF SVC"
   ]
  },
  {
   "cell_type": "markdown",
   "metadata": {},
   "source": [
    "In Radial Basis Function(RBF) SVC, the hyperparameters are going to be C and gamma. \n",
    "(gamma=1/sigma)"
   ]
  },
  {
   "cell_type": "code",
   "execution_count": 100,
   "metadata": {},
   "outputs": [],
   "source": [
    "from sklearn.model_selection import train_test_split\n",
    "from sklearn.grid_search import GridSearchCV\n",
    "from sklearn.datasets import *\n",
    "from sklearn.svm import SVC\n",
    "#from sklearn.linear_model import LogisticRegression\n",
    "from scipy.stats import uniform\n",
    "\n",
    "def grid_search(X_train, y_train): \n",
    "\n",
    "    gamma = [10**-4, 10**-2, 10**0, 10**2, 10**4]\n",
    "    #penalty = ['l1', 'l2']\n",
    "    C= [10**-4, 10**-2, 10**0, 10**2, 10**4]\n",
    "    \n",
    "    hyperparameters = dict(C=C, gamma=gamma)\n",
    "    X_train, X_test, y_train, y_test = train_test_split(X_train, y_train, test_size=0.3)\n",
    "    #RBF as kernel\n",
    "    clf=SVC(kernel='rbf')\n",
    "    \n",
    "    #Using GridSearchCV\n",
    "    model = GridSearchCV(clf, hyperparameters, scoring = 'f1', cv=5, n_jobs=5)\n",
    "    model.fit(X_train, y_train)\n",
    "    \n",
    "    opt_val=model.best_estimator_.get_params()['C']\n",
    "    #best_penalty=model.best_estimator_.get_params()['penalty']\n",
    "    best_gamma=model.best_estimator_.get_params()['gamma']\n",
    "    #o=model.get_params().keys()\n",
    "    #return o\n",
    "    return opt_val,best_gamma"
   ]
  },
  {
   "cell_type": "code",
   "execution_count": 101,
   "metadata": {},
   "outputs": [],
   "source": [
    "from scipy.stats import uniform\n",
    "from sklearn.model_selection import RandomizedSearchCV\n",
    "import random\n",
    "\n",
    "def random_search(X_train, y_train):\n",
    "    \n",
    "    X_train, X_test, y_train, y_test = train_test_split(X_train, y_train, test_size=0.3)\n",
    "\n",
    "    # Create regularization hyperparameter distribution using uniform distribution\n",
    "    C = uniform(loc=0, scale=1)\n",
    "    gamma = uniform(loc=0, scale=1)\n",
    "    \n",
    "    #RBF as kernel\n",
    "    clf1=SVC(kernel='rbf')\n",
    "    \n",
    "    # Create hyperparameter options\n",
    "    hyperparameters = dict(C=C, gamma=gamma)\n",
    "    model1 = RandomizedSearchCV(clf1, hyperparameters, random_state=1, n_iter=1, cv=5, verbose=0, n_jobs=-1)\n",
    "    best_model = model1.fit(X_train, y_train)\n",
    "    # View best hyperparameters\n",
    "    print('Best gamma:', best_model.best_estimator_.get_params()['gamma'])\n",
    "    print('Best C:', best_model.best_estimator_.get_params()['C'])\n",
    "    # Predict target vector\n",
    "    opt_val=best_model.best_estimator_.get_params()['C']\n",
    "    best_gamma=best_model.best_estimator_.get_params()['gamma']\n",
    "    \n",
    "    return opt_val,best_gamma"
   ]
  },
  {
   "cell_type": "markdown",
   "metadata": {},
   "source": [
    "For SGD classifier our hyperparameters will be alpha and penalty"
   ]
  },
  {
   "cell_type": "code",
   "execution_count": 102,
   "metadata": {},
   "outputs": [],
   "source": [
    "def sgd_clf(X_train, y_train):\n",
    "    \n",
    "    X_train, X_test, y_train, y_test = train_test_split(X_train, y_train, test_size=0.3)\n",
    "\n",
    "    # Create regularization hyperparameter distribution using uniform distribution\n",
    "    alpha = [10**-3, 10**-2, 10**-1, 10**0,10**1, 10**2, 10**3, 10**4]\n",
    "    penalty =['l1','l2']\n",
    "    \n",
    "    clf2 = SGDClassifier(loss='hinge')\n",
    "    \n",
    "    # Create hyperparameter options\n",
    "    hyperparameters = dict(alpha=alpha, penalty=penalty)\n",
    "    model2 = GridSearchCV(clf2, hyperparameters, scoring = 'f1',  cv=5, n_jobs=5)\n",
    "    best_model = model2.fit(X_train, y_train)\n",
    "    # View best hyperparameters\n",
    "    print('Best alpha:', best_model.best_estimator_.get_params()['alpha'])\n",
    "    print('Best penalty:', best_model.best_estimator_.get_params()['penalty'])\n",
    "    # Predict target vector\n",
    "    opt_alpha=best_model.best_estimator_.get_params()['alpha']\n",
    "    best_penalty=best_model.best_estimator_.get_params()['penalty']\n",
    "    \n",
    "    return opt_alpha,best_penalty\n"
   ]
  },
  {
   "cell_type": "code",
   "execution_count": 103,
   "metadata": {},
   "outputs": [],
   "source": [
    "#Plotting the confusion matrix\n",
    "from sklearn.metrics import confusion_matrix\n",
    "import matplotlib.pyplot as plt\n",
    "import seaborn as sns\n",
    "\n",
    "#Plotting the confusion matrix\n",
    "from sklearn.metrics import confusion_matrix\n",
    "def confusion_matrix_plot(y_test,pred):\n",
    "    labels = [0,1]\n",
    "    y_t=y_test\n",
    "    pred_c=pred\n",
    "    cm = confusion_matrix(y_t, pred_c, labels)\n",
    "    print(cm)\n",
    "    fig = plt.figure()\n",
    "    ax = fig.add_subplot(111)\n",
    "    sns.heatmap(cm, annot=True, ax = ax, fmt='g')\n",
    "    cax = ax.matshow(cm)\n",
    "    plt.title('Confusion matrix of the classifier')\n",
    "    #fig.colorbar(cax)\n",
    "    ax.set_xticklabels([''] + labels)\n",
    "    ax.set_yticklabels([''] + labels)\n",
    "    plt.xlabel('Predicted')\n",
    "    plt.ylabel('True')\n",
    "    plt.show()"
   ]
  },
  {
   "cell_type": "code",
   "execution_count": 104,
   "metadata": {},
   "outputs": [
    {
     "name": "stdout",
     "output_type": "stream",
     "text": [
      "10000\n",
      "0.0001\n"
     ]
    }
   ],
   "source": [
    "from sklearn import cross_validation\n",
    "\n",
    "optimal_C,optimal_gamma = grid_optimal_C(bow_train[0],bow_train[1])\n",
    "print(optimal_C)\n",
    "print(optimal_gamma)\n",
    "\n",
    "#print(optimal_alpha)"
   ]
  },
  {
   "cell_type": "markdown",
   "metadata": {},
   "source": [
    "# BoW"
   ]
  },
  {
   "cell_type": "code",
   "execution_count": 105,
   "metadata": {},
   "outputs": [],
   "source": [
    "import pickle\n",
    "f1 = 'bow_train_data.sav'\n",
    "\n",
    "f2 = 'test_data.sav'\n",
    "\n",
    "bow_train = pickle.load(open(f1, 'rb'))\n",
    "bow_test = pickle.load(open(f2, 'rb'))"
   ]
  },
  {
   "cell_type": "code",
   "execution_count": 106,
   "metadata": {},
   "outputs": [
    {
     "name": "stdout",
     "output_type": "stream",
     "text": [
      "\n",
      "The accuracy of the SVC for C = 0.000100% and gamma = 0.000100% is 83.000000%\n"
     ]
    }
   ],
   "source": [
    "#GRID SEARCH\n",
    "from sklearn.metrics import accuracy_score\n",
    "\n",
    "optimal_C,optimal_gamma = grid_optimal_C(bow_train[0],bow_train[1])\n",
    "svc = SVC(C=optimal_C,gamma=optimal_gamma)\n",
    "svc.fit(bow_train[0],bow_train[1])\n",
    "pred = svc.predict(bow_test[0])\n",
    "# y_test = count_vect.fit_transform(y_test)\n",
    "acc = accuracy_score(bow_test[1], pred) * 100\n",
    "train_error=svc.score(bow_train[0],bow_train[1])\n",
    "test_error=svc.score(bow_test[0],bow_test[1])\n",
    "print('\\nThe accuracy of the SVC for C = %f%% and gamma = %f%% is %f%%' % (optimal_C,optimal_gamma, acc))"
   ]
  },
  {
   "cell_type": "code",
   "execution_count": 107,
   "metadata": {},
   "outputs": [
    {
     "name": "stdout",
     "output_type": "stream",
     "text": [
      "[[  0  51]\n",
      " [  0 249]]\n"
     ]
    },
    {
     "data": {
      "image/png": "[encoded data removed]",
      "text/plain": [
       "<matplotlib.figure.Figure at 0x28988e8fba8>"
      ]
     },
     "metadata": {},
     "output_type": "display_data"
    }
   ],
   "source": [
    "confusion_matrix_plot(bow_test[1],pred)"
   ]
  },
  {
   "cell_type": "code",
   "execution_count": 108,
   "metadata": {},
   "outputs": [
    {
     "name": "stdout",
     "output_type": "stream",
     "text": [
      "             precision    recall  f1-score   support\n",
      "\n",
      "          0       0.00      0.00      0.00        51\n",
      "          1       0.83      1.00      0.91       249\n",
      "\n",
      "avg / total       0.69      0.83      0.75       300\n",
      "\n"
     ]
    }
   ],
   "source": [
    "#Printing Classification Report\n",
    "from sklearn.metrics import classification_report\n",
    "\n",
    "print(classification_report(bow_test[1],pred))"
   ]
  },
  {
   "cell_type": "code",
   "execution_count": 109,
   "metadata": {},
   "outputs": [
    {
     "name": "stdout",
     "output_type": "stream",
     "text": [
      "Best gamma: 0.7203244934421581\n",
      "Best C: 0.417022004702574\n",
      "\n",
      "The accuracy of the SVC for C = 0.417022% and gamma = 0.720324% is 83.000000%\n"
     ]
    }
   ],
   "source": [
    "#RANDOM SEARCH\n",
    "from sklearn.metrics import accuracy_score\n",
    "\n",
    "optimal_C,optimal_gamma = random_search(bow_train[0],bow_train[1])\n",
    "svc = SVC(C=optimal_C,gamma=optimal_gamma)\n",
    "svc.fit(bow_train[0],bow_train[1])\n",
    "pred = svc.predict(bow_test[0])\n",
    "# y_test = count_vect.fit_transform(y_test)\n",
    "acc = accuracy_score(bow_test[1], pred) * 100\n",
    "train_error=svc.score(bow_train[0],bow_train[1])\n",
    "test_error=svc.score(bow_test[0],bow_test[1])\n",
    "print('\\nThe accuracy of the SVC for C = %f%% and gamma = %f%% is %f%%' % (optimal_C,optimal_gamma, acc))"
   ]
  },
  {
   "cell_type": "code",
   "execution_count": 110,
   "metadata": {},
   "outputs": [
    {
     "name": "stdout",
     "output_type": "stream",
     "text": [
      "[[  0  51]\n",
      " [  0 249]]\n"
     ]
    },
    {
     "data": {
      "image/png": "[encoded data removed]",
      "text/plain": [
       "<matplotlib.figure.Figure at 0x28988fd3160>"
      ]
     },
     "metadata": {},
     "output_type": "display_data"
    }
   ],
   "source": [
    "confusion_matrix_plot(bow_test[1],pred)"
   ]
  },
  {
   "cell_type": "code",
   "execution_count": 111,
   "metadata": {},
   "outputs": [
    {
     "name": "stdout",
     "output_type": "stream",
     "text": [
      "             precision    recall  f1-score   support\n",
      "\n",
      "          0       0.00      0.00      0.00        51\n",
      "          1       0.83      1.00      0.91       249\n",
      "\n",
      "avg / total       0.69      0.83      0.75       300\n",
      "\n"
     ]
    }
   ],
   "source": [
    "#Printing Classification Report\n",
    "from sklearn.metrics import classification_report\n",
    "\n",
    "print(classification_report(bow_test[1],pred))"
   ]
  },
  {
   "cell_type": "code",
   "execution_count": 119,
   "metadata": {},
   "outputs": [
    {
     "name": "stdout",
     "output_type": "stream",
     "text": [
      "Best alpha: 0.01\n",
      "Best penalty: l2\n",
      "\n",
      "The accuracy of the SGD Classifier for alpha = 0.010000% and best_penalty = l2 is 87.333333%\n"
     ]
    }
   ],
   "source": [
    "#SGD Classf.\n",
    "from sklearn.metrics import accuracy_score\n",
    "\n",
    "opt_alpha,best_penalty = sgd_clf(bow_train[0],bow_train[1])\n",
    "sgd = SGDClassifier(alpha=opt_alpha,penalty=best_penalty)\n",
    "sgd.fit(bow_train[0],bow_train[1])\n",
    "pred = sgd.predict(bow_test[0])\n",
    "acc = accuracy_score(bow_test[1], pred) * 100\n",
    "train_error=sgd.score(bow_train[0],bow_train[1])\n",
    "test_error=sgd.score(bow_test[0],bow_test[1])\n",
    "print('\\nThe accuracy of the SGD Classifier for alpha = %f%% and best_penalty = %s is %f%%' % (opt_alpha,best_penalty, acc))"
   ]
  },
  {
   "cell_type": "code",
   "execution_count": 113,
   "metadata": {},
   "outputs": [
    {
     "name": "stdout",
     "output_type": "stream",
     "text": [
      "[[ 13  38]\n",
      " [  1 248]]\n"
     ]
    },
    {
     "data": {
      "image/png": "[encoded data removed]",
      "text/plain": [
       "<matplotlib.figure.Figure at 0x2898585b470>"
      ]
     },
     "metadata": {},
     "output_type": "display_data"
    }
   ],
   "source": [
    "confusion_matrix_plot(bow_test[1],pred)"
   ]
  },
  {
   "cell_type": "code",
   "execution_count": 114,
   "metadata": {},
   "outputs": [
    {
     "name": "stdout",
     "output_type": "stream",
     "text": [
      "             precision    recall  f1-score   support\n",
      "\n",
      "          0       0.93      0.25      0.40        51\n",
      "          1       0.87      1.00      0.93       249\n",
      "\n",
      "avg / total       0.88      0.87      0.84       300\n",
      "\n"
     ]
    }
   ],
   "source": [
    "#Printing Classification Report\n",
    "from sklearn.metrics import classification_report\n",
    "\n",
    "print(classification_report(bow_test[1],pred))"
   ]
  },
  {
   "cell_type": "code",
   "execution_count": 115,
   "metadata": {},
   "outputs": [
    {
     "ename": "NameError",
     "evalue": "name 'optimal_alpha' is not defined",
     "output_type": "error",
     "traceback": [
      "\u001b[1;31m---------------------------------------------------------------------------\u001b[0m",
      "\u001b[1;31mNameError\u001b[0m                                 Traceback (most recent call last)",
      "\u001b[1;32m<ipython-input-115-3360cb9d7a0b>\u001b[0m in \u001b[0;36m<module>\u001b[1;34m()\u001b[0m\n\u001b[0;32m      2\u001b[0m \u001b[1;32mfrom\u001b[0m \u001b[0mastropy\u001b[0m\u001b[1;33m.\u001b[0m\u001b[0mtable\u001b[0m \u001b[1;32mimport\u001b[0m \u001b[0mTable\u001b[0m\u001b[1;33m,\u001b[0m \u001b[0mColumn\u001b[0m\u001b[1;33m\u001b[0m\u001b[0m\n\u001b[0;32m      3\u001b[0m \u001b[0mt\u001b[0m \u001b[1;33m=\u001b[0m \u001b[0mTable\u001b[0m\u001b[1;33m(\u001b[0m\u001b[0mnames\u001b[0m\u001b[1;33m=\u001b[0m\u001b[1;33m(\u001b[0m \u001b[1;34m\"Hyper parameter\"\u001b[0m\u001b[1;33m,\u001b[0m \u001b[1;34m\"Train error\"\u001b[0m\u001b[1;33m,\u001b[0m\u001b[1;34m\"Test error\"\u001b[0m\u001b[1;33m)\u001b[0m\u001b[1;33m,\u001b[0m \u001b[0mdtype\u001b[0m\u001b[1;33m=\u001b[0m\u001b[1;33m(\u001b[0m\u001b[1;34m'i4'\u001b[0m\u001b[1;33m,\u001b[0m \u001b[1;34m'f4'\u001b[0m\u001b[1;33m,\u001b[0m \u001b[1;34m'f4'\u001b[0m\u001b[1;33m)\u001b[0m\u001b[1;33m)\u001b[0m\u001b[1;33m\u001b[0m\u001b[0m\n\u001b[1;32m----> 4\u001b[1;33m \u001b[0mt\u001b[0m\u001b[1;33m.\u001b[0m\u001b[0madd_row\u001b[0m\u001b[1;33m(\u001b[0m\u001b[1;33m(\u001b[0m\u001b[0moptimal_alpha\u001b[0m\u001b[1;33m,\u001b[0m \u001b[0mtrain_error\u001b[0m\u001b[1;33m,\u001b[0m \u001b[0mtest_error\u001b[0m\u001b[1;33m)\u001b[0m\u001b[1;33m)\u001b[0m\u001b[1;33m\u001b[0m\u001b[0m\n\u001b[0m\u001b[0;32m      5\u001b[0m \u001b[0mprint\u001b[0m\u001b[1;33m(\u001b[0m\u001b[0mt\u001b[0m\u001b[1;33m)\u001b[0m\u001b[1;33m\u001b[0m\u001b[0m\n",
      "\u001b[1;31mNameError\u001b[0m: name 'optimal_alpha' is not defined"
     ]
    }
   ],
   "source": [
    "#Printing final results\n",
    "from astropy.table import Table, Column\n",
    "t = Table(names=( \"Hyper parameter\", \"Train error\",\"Test error\"), dtype=('i4', 'f4', 'f4'))\n",
    "t.add_row((optimal_alpha, train_error, test_error))\n",
    "print(t)"
   ]
  },
  {
   "cell_type": "markdown",
   "metadata": {},
   "source": [
    "# TF-IDF"
   ]
  },
  {
   "cell_type": "code",
   "execution_count": 121,
   "metadata": {},
   "outputs": [],
   "source": [
    "f3 = 'tfidf_train_data.sav'\n",
    "\n",
    "f4 = 'tfidf_data.sav'\n",
    "\n",
    "tfidf_train = pickle.load(open(f3, 'rb'))\n",
    "tfidf_test = pickle.load(open(f4, 'rb'))"
   ]
  },
  {
   "cell_type": "code",
   "execution_count": 122,
   "metadata": {},
   "outputs": [
    {
     "name": "stdout",
     "output_type": "stream",
     "text": [
      "\n",
      "The accuracy of the SVC for C = 100.000000% and gamma = 0.010000% is 87.666667%\n"
     ]
    }
   ],
   "source": [
    "#GRID SEARCH\n",
    "from sklearn.metrics import accuracy_score\n",
    "\n",
    "optimal_C,optimal_gamma = grid_optimal_C(tfidf_train[0],tfidf_train[1])\n",
    "svc = SVC(C=optimal_C,gamma=optimal_gamma)\n",
    "svc.fit(tfidf_train[0],tfidf_train[1])\n",
    "pred = svc.predict(tfidf_test[0])\n",
    "# y_test = count_vect.fit_transform(y_test)\n",
    "acc = accuracy_score(tfidf_test[1], pred) * 100\n",
    "train_error=svc.score(tfidf_train[0],tfidf_train[1])\n",
    "test_error=svc.score(tfidf_test[0],tfidf_test[1])\n",
    "print('\\nThe accuracy of the SVC for C = %f%% and gamma = %f%% is %f%%' % (optimal_C,optimal_gamma, acc))"
   ]
  },
  {
   "cell_type": "code",
   "execution_count": 123,
   "metadata": {},
   "outputs": [
    {
     "name": "stdout",
     "output_type": "stream",
     "text": [
      "[[ 14  37]\n",
      " [  0 249]]\n"
     ]
    },
    {
     "data": {
      "image/png": "[encoded data removed]",
      "text/plain": [
       "<matplotlib.figure.Figure at 0x28988fd3e48>"
      ]
     },
     "metadata": {},
     "output_type": "display_data"
    }
   ],
   "source": [
    "confusion_matrix_plot(tfidf_test[1],pred)"
   ]
  },
  {
   "cell_type": "code",
   "execution_count": 124,
   "metadata": {},
   "outputs": [
    {
     "name": "stdout",
     "output_type": "stream",
     "text": [
      "             precision    recall  f1-score   support\n",
      "\n",
      "          0       1.00      0.27      0.43        51\n",
      "          1       0.87      1.00      0.93       249\n",
      "\n",
      "avg / total       0.89      0.88      0.85       300\n",
      "\n"
     ]
    }
   ],
   "source": [
    "print(classification_report(tfidf_test[1],pred))"
   ]
  },
  {
   "cell_type": "code",
   "execution_count": 125,
   "metadata": {},
   "outputs": [
    {
     "name": "stdout",
     "output_type": "stream",
     "text": [
      "Best gamma: 0.7203244934421581\n",
      "Best C: 0.417022004702574\n",
      "\n",
      "The accuracy of the SVC for C = 0.417022% and gamma = 0.720324% is 83.000000%\n"
     ]
    }
   ],
   "source": [
    "#RANDOM SEARCH\n",
    "from sklearn.metrics import accuracy_score\n",
    "\n",
    "optimal_C,optimal_gamma = random_search(tfidf_train[0],tfidf_train[1])\n",
    "svc = SVC(C=optimal_C,gamma=optimal_gamma)\n",
    "svc.fit(tfidf_train[0],tfidf_train[1])\n",
    "pred = svc.predict(tfidf_test[0])\n",
    "# y_test = count_vect.fit_transform(y_test)\n",
    "acc = accuracy_score(tfidf_test[1], pred) * 100\n",
    "train_error=svc.score(tfidf_train[0],tfidf_train[1])\n",
    "test_error=svc.score(tfidf_test[0],tfidf_test[1])\n",
    "print('\\nThe accuracy of the SVC for C = %f%% and gamma = %f%% is %f%%' % (optimal_C,optimal_gamma, acc))"
   ]
  },
  {
   "cell_type": "code",
   "execution_count": 126,
   "metadata": {},
   "outputs": [
    {
     "name": "stdout",
     "output_type": "stream",
     "text": [
      "[[  0  51]\n",
      " [  0 249]]\n"
     ]
    },
    {
     "data": {
      "image/png": "[encoded data removed]",
      "text/plain": [
       "<matplotlib.figure.Figure at 0x28987ac2940>"
      ]
     },
     "metadata": {},
     "output_type": "display_data"
    }
   ],
   "source": [
    "confusion_matrix_plot(tfidf_test[1],pred)"
   ]
  },
  {
   "cell_type": "code",
   "execution_count": 127,
   "metadata": {},
   "outputs": [
    {
     "name": "stdout",
     "output_type": "stream",
     "text": [
      "             precision    recall  f1-score   support\n",
      "\n",
      "          0       0.00      0.00      0.00        51\n",
      "          1       0.83      1.00      0.91       249\n",
      "\n",
      "avg / total       0.69      0.83      0.75       300\n",
      "\n"
     ]
    }
   ],
   "source": [
    "print(classification_report(tfidf_test[1],pred))"
   ]
  },
  {
   "cell_type": "code",
   "execution_count": 128,
   "metadata": {},
   "outputs": [
    {
     "name": "stdout",
     "output_type": "stream",
     "text": [
      "Best alpha: 0.001\n",
      "Best penalty: l1\n",
      "\n",
      "The accuracy of the SGD Classifier for alpha = 0.001000% and best_penalty = l1 is 83.000000%\n"
     ]
    }
   ],
   "source": [
    "#SGD Classf.\n",
    "from sklearn.metrics import accuracy_score\n",
    "\n",
    "opt_alpha,best_penalty = sgd_clf(tfidf_train[0],tfidf_train[1])\n",
    "sgd = SGDClassifier(alpha=opt_alpha,penalty=best_penalty)\n",
    "sgd.fit(tfidf_train[0],tfidf_train[1])\n",
    "pred = sgd.predict(tfidf_test[0])\n",
    "acc = accuracy_score(tfidf_test[1], pred) * 100\n",
    "train_error=sgd.score(tfidf_train[0],tfidf_train[1])\n",
    "test_error=sgd.score(tfidf_test[0],tfidf_test[1])\n",
    "print('\\nThe accuracy of the SGD Classifier for alpha = %f%% and best_penalty = %s is %f%%' % (opt_alpha,best_penalty, acc))"
   ]
  },
  {
   "cell_type": "code",
   "execution_count": 129,
   "metadata": {},
   "outputs": [
    {
     "name": "stdout",
     "output_type": "stream",
     "text": [
      "[[  0  51]\n",
      " [  0 249]]\n"
     ]
    },
    {
     "data": {
      "image/png": "[encoded data removed]",
      "text/plain": [
       "<matplotlib.figure.Figure at 0x28988e99358>"
      ]
     },
     "metadata": {},
     "output_type": "display_data"
    }
   ],
   "source": [
    "confusion_matrix_plot(tfidf_test[1],pred)"
   ]
  },
  {
   "cell_type": "code",
   "execution_count": 130,
   "metadata": {},
   "outputs": [
    {
     "name": "stdout",
     "output_type": "stream",
     "text": [
      "             precision    recall  f1-score   support\n",
      "\n",
      "          0       0.00      0.00      0.00        51\n",
      "          1       0.83      1.00      0.91       249\n",
      "\n",
      "avg / total       0.69      0.83      0.75       300\n",
      "\n"
     ]
    }
   ],
   "source": [
    "print(classification_report(tfidf_test[1],pred))"
   ]
  },
  {
   "cell_type": "markdown",
   "metadata": {},
   "source": [
    "# Avg W2V"
   ]
  },
  {
   "cell_type": "code",
   "execution_count": 131,
   "metadata": {},
   "outputs": [],
   "source": [
    "f5 = 'avg_w2v_train_data.sav'\n",
    "f6 = 'avg_w2v_test_data.sav'\n",
    "avg_w2v_train = pickle.load(open(f5, 'rb'))\n",
    "avg_w2v_test = pickle.load(open(f6, 'rb'))"
   ]
  },
  {
   "cell_type": "code",
   "execution_count": 132,
   "metadata": {},
   "outputs": [
    {
     "name": "stdout",
     "output_type": "stream",
     "text": [
      "\n",
      "The accuracy of the SVC for C = 0.000100% and gamma = 0.000100% is 83.000000%\n"
     ]
    }
   ],
   "source": [
    "#GRID SEARCH\n",
    "from sklearn.metrics import accuracy_score\n",
    "\n",
    "optimal_C,optimal_gamma = grid_optimal_C(avg_w2v_train[0],avg_w2v_train[1])\n",
    "svc = SVC(C=optimal_C,gamma=optimal_gamma)\n",
    "svc.fit(avg_w2v_train[0],avg_w2v_train[1])\n",
    "pred = svc.predict(avg_w2v_test[0])\n",
    "# y_test = count_vect.fit_transform(y_test)\n",
    "acc = accuracy_score(avg_w2v_test[1], pred) * 100\n",
    "train_error=svc.score(avg_w2v_train[0],avg_w2v_train[1])\n",
    "test_error=svc.score(avg_w2v_test[0],avg_w2v_test[1])\n",
    "print('\\nThe accuracy of the SVC for C = %f%% and gamma = %f%% is %f%%' % (optimal_C,optimal_gamma, acc))"
   ]
  },
  {
   "cell_type": "code",
   "execution_count": 133,
   "metadata": {},
   "outputs": [
    {
     "name": "stdout",
     "output_type": "stream",
     "text": [
      "[[  0  51]\n",
      " [  0 249]]\n"
     ]
    },
    {
     "data": {
      "image/png": "[encoded data removed]",
      "text/plain": [
       "<matplotlib.figure.Figure at 0x28988f8a898>"
      ]
     },
     "metadata": {},
     "output_type": "display_data"
    }
   ],
   "source": [
    "confusion_matrix_plot(avg_w2v_test[1],pred)"
   ]
  },
  {
   "cell_type": "code",
   "execution_count": 134,
   "metadata": {},
   "outputs": [
    {
     "name": "stdout",
     "output_type": "stream",
     "text": [
      "             precision    recall  f1-score   support\n",
      "\n",
      "          0       0.00      0.00      0.00        51\n",
      "          1       0.83      1.00      0.91       249\n",
      "\n",
      "avg / total       0.69      0.83      0.75       300\n",
      "\n"
     ]
    }
   ],
   "source": [
    "print(classification_report(avg_w2v_test[1],pred))"
   ]
  },
  {
   "cell_type": "code",
   "execution_count": 135,
   "metadata": {},
   "outputs": [
    {
     "name": "stdout",
     "output_type": "stream",
     "text": [
      "Best gamma: 0.7203244934421581\n",
      "Best C: 0.417022004702574\n",
      "\n",
      "The accuracy of the SVC for C = 0.417022% and gamma = 0.720324% is 83.000000%\n"
     ]
    }
   ],
   "source": [
    "#GRID SEARCH\n",
    "from sklearn.metrics import accuracy_score\n",
    "\n",
    "optimal_C,optimal_gamma = random_search(avg_w2v_train[0],avg_w2v_train[1])\n",
    "svc = SVC(C=optimal_C,gamma=optimal_gamma)\n",
    "svc.fit(avg_w2v_train[0],avg_w2v_train[1])\n",
    "pred = svc.predict(avg_w2v_test[0])\n",
    "# y_test = count_vect.fit_transform(y_test)\n",
    "acc = accuracy_score(avg_w2v_test[1], pred) * 100\n",
    "train_error=svc.score(avg_w2v_train[0],avg_w2v_train[1])\n",
    "test_error=svc.score(avg_w2v_test[0],avg_w2v_test[1])\n",
    "print('\\nThe accuracy of the SVC for C = %f%% and gamma = %f%% is %f%%' % (optimal_C,optimal_gamma, acc))"
   ]
  },
  {
   "cell_type": "code",
   "execution_count": 136,
   "metadata": {},
   "outputs": [
    {
     "name": "stdout",
     "output_type": "stream",
     "text": [
      "[[  0  51]\n",
      " [  0 249]]\n"
     ]
    },
    {
     "data": {
      "image/png": "[encoded data removed]",
      "text/plain": [
       "<matplotlib.figure.Figure at 0x28988e700f0>"
      ]
     },
     "metadata": {},
     "output_type": "display_data"
    }
   ],
   "source": [
    "confusion_matrix_plot(avg_w2v_test[1],pred)"
   ]
  },
  {
   "cell_type": "code",
   "execution_count": 137,
   "metadata": {},
   "outputs": [
    {
     "name": "stdout",
     "output_type": "stream",
     "text": [
      "             precision    recall  f1-score   support\n",
      "\n",
      "          0       0.00      0.00      0.00        51\n",
      "          1       0.83      1.00      0.91       249\n",
      "\n",
      "avg / total       0.69      0.83      0.75       300\n",
      "\n"
     ]
    }
   ],
   "source": [
    "print(classification_report(avg_w2v_test[1],pred))"
   ]
  },
  {
   "cell_type": "code",
   "execution_count": 138,
   "metadata": {},
   "outputs": [
    {
     "name": "stdout",
     "output_type": "stream",
     "text": [
      "Best alpha: 0.001\n",
      "Best penalty: l1\n",
      "\n",
      "The accuracy of the SGD Classifier for alpha = 0.001000% and best_penalty = l1 is 83.000000%\n"
     ]
    }
   ],
   "source": [
    "#SGD Classf.\n",
    "from sklearn.metrics import accuracy_score\n",
    "\n",
    "opt_alpha,best_penalty = sgd_clf(avg_w2v_train[0],avg_w2v_train[1])\n",
    "sgd = SGDClassifier(alpha=opt_alpha,penalty=best_penalty)\n",
    "sgd.fit(avg_w2v_train[0],avg_w2v_train[1])\n",
    "pred = sgd.predict(avg_w2v_test[0])\n",
    "acc = accuracy_score(avg_w2v_test[1], pred) * 100\n",
    "train_error=sgd.score(avg_w2v_train[0],avg_w2v_train[1])\n",
    "test_error=sgd.score(avg_w2v_test[0],avg_w2v_test[1])\n",
    "print('\\nThe accuracy of the SGD Classifier for alpha = %f%% and best_penalty = %s is %f%%' % (opt_alpha,best_penalty, acc))"
   ]
  },
  {
   "cell_type": "code",
   "execution_count": 139,
   "metadata": {},
   "outputs": [
    {
     "name": "stdout",
     "output_type": "stream",
     "text": [
      "[[  0  51]\n",
      " [  0 249]]\n"
     ]
    },
    {
     "data": {
      "image/png": "[encoded data removed]",
      "text/plain": [
       "<matplotlib.figure.Figure at 0x28988ecf080>"
      ]
     },
     "metadata": {},
     "output_type": "display_data"
    }
   ],
   "source": [
    "confusion_matrix_plot(avg_w2v_test[1],pred)"
   ]
  },
  {
   "cell_type": "code",
   "execution_count": 140,
   "metadata": {},
   "outputs": [
    {
     "name": "stdout",
     "output_type": "stream",
     "text": [
      "             precision    recall  f1-score   support\n",
      "\n",
      "          0       0.00      0.00      0.00        51\n",
      "          1       0.83      1.00      0.91       249\n",
      "\n",
      "avg / total       0.69      0.83      0.75       300\n",
      "\n"
     ]
    }
   ],
   "source": [
    "print(classification_report(avg_w2v_test[1],pred))"
   ]
  },
  {
   "cell_type": "markdown",
   "metadata": {},
   "source": [
    "# TF-IDF W2V"
   ]
  },
  {
   "cell_type": "code",
   "execution_count": 141,
   "metadata": {},
   "outputs": [],
   "source": [
    "f7 = 'tfidf_w2v_train_data.sav'\n",
    "f8 = 'tfidf_w2v_test_data.sav'\n",
    "\n",
    "tfidf_w2v_train = pickle.load(open(f7, 'rb'))\n",
    "tfidf_w2v_test = pickle.load(open(f8, 'rb'))"
   ]
  },
  {
   "cell_type": "code",
   "execution_count": 143,
   "metadata": {},
   "outputs": [
    {
     "name": "stdout",
     "output_type": "stream",
     "text": [
      "\n",
      "The accuracy of the SVC for C = 0.000100% and gamma = 0.000100% is 83.000000%\n"
     ]
    }
   ],
   "source": [
    "#GRID SEARCH\n",
    "from sklearn.metrics import accuracy_score\n",
    "\n",
    "optimal_C,optimal_gamma = grid_optimal_C(tfidf_w2v_train[0],tfidf_w2v_train[1])\n",
    "svc = SVC(C=optimal_C,gamma=optimal_gamma)\n",
    "svc.fit(tfidf_w2v_train[0],tfidf_w2v_train[1])\n",
    "pred = svc.predict(tfidf_w2v_test[0])\n",
    "# y_test = count_vect.fit_transform(y_test)\n",
    "acc = accuracy_score(tfidf_w2v_test[1], pred) * 100\n",
    "train_error=svc.score(tfidf_w2v_train[0],tfidf_w2v_train[1])\n",
    "test_error=svc.score(tfidf_w2v_test[0],tfidf_w2v_test[1])\n",
    "print('\\nThe accuracy of the SVC for C = %f%% and gamma = %f%% is %f%%' % (optimal_C,optimal_gamma, acc))"
   ]
  },
  {
   "cell_type": "code",
   "execution_count": 144,
   "metadata": {},
   "outputs": [
    {
     "name": "stdout",
     "output_type": "stream",
     "text": [
      "[[  0  51]\n",
      " [  0 249]]\n"
     ]
    },
    {
     "data": {
      "image/png": "[encoded data removed]",
      "text/plain": [
       "<matplotlib.figure.Figure at 0x28988fd3a90>"
      ]
     },
     "metadata": {},
     "output_type": "display_data"
    }
   ],
   "source": [
    "confusion_matrix_plot(tfidf_w2v_test[1],pred)"
   ]
  },
  {
   "cell_type": "code",
   "execution_count": 145,
   "metadata": {},
   "outputs": [
    {
     "name": "stdout",
     "output_type": "stream",
     "text": [
      "             precision    recall  f1-score   support\n",
      "\n",
      "          0       0.00      0.00      0.00        51\n",
      "          1       0.83      1.00      0.91       249\n",
      "\n",
      "avg / total       0.69      0.83      0.75       300\n",
      "\n"
     ]
    }
   ],
   "source": [
    "print(classification_report(tfidf_w2v_test[1],pred))"
   ]
  },
  {
   "cell_type": "code",
   "execution_count": 146,
   "metadata": {},
   "outputs": [
    {
     "name": "stdout",
     "output_type": "stream",
     "text": [
      "Best gamma: 0.7203244934421581\n",
      "Best C: 0.417022004702574\n",
      "\n",
      "The accuracy of the SVC for C = 0.417022% and gamma = 0.720324% is 83.000000%\n"
     ]
    }
   ],
   "source": [
    "#RANDOM SEARCH\n",
    "from sklearn.metrics import accuracy_score\n",
    "\n",
    "optimal_C,optimal_gamma = random_search(tfidf_w2v_train[0],tfidf_w2v_train[1])\n",
    "svc = SVC(C=optimal_C,gamma=optimal_gamma)\n",
    "svc.fit(tfidf_w2v_train[0],tfidf_w2v_train[1])\n",
    "pred = svc.predict(tfidf_w2v_test[0])\n",
    "# y_test = count_vect.fit_transform(y_test)\n",
    "acc = accuracy_score(tfidf_w2v_test[1], pred) * 100\n",
    "train_error=svc.score(tfidf_w2v_train[0],tfidf_w2v_train[1])\n",
    "test_error=svc.score(tfidf_w2v_test[0],tfidf_w2v_test[1])\n",
    "print('\\nThe accuracy of the SVC for C = %f%% and gamma = %f%% is %f%%' % (optimal_C,optimal_gamma, acc))"
   ]
  },
  {
   "cell_type": "code",
   "execution_count": 147,
   "metadata": {},
   "outputs": [
    {
     "name": "stdout",
     "output_type": "stream",
     "text": [
      "[[  0  51]\n",
      " [  0 249]]\n"
     ]
    },
    {
     "data": {
      "image/png": "[encoded data removed]",
      "text/plain": [
       "<matplotlib.figure.Figure at 0x28988ecf7b8>"
      ]
     },
     "metadata": {},
     "output_type": "display_data"
    }
   ],
   "source": [
    "confusion_matrix_plot(tfidf_w2v_test[1],pred)"
   ]
  },
  {
   "cell_type": "code",
   "execution_count": 148,
   "metadata": {},
   "outputs": [
    {
     "name": "stdout",
     "output_type": "stream",
     "text": [
      "             precision    recall  f1-score   support\n",
      "\n",
      "          0       0.00      0.00      0.00        51\n",
      "          1       0.83      1.00      0.91       249\n",
      "\n",
      "avg / total       0.69      0.83      0.75       300\n",
      "\n"
     ]
    }
   ],
   "source": [
    "print(classification_report(tfidf_w2v_test[1],pred))"
   ]
  },
  {
   "cell_type": "code",
   "execution_count": 150,
   "metadata": {},
   "outputs": [
    {
     "name": "stdout",
     "output_type": "stream",
     "text": [
      "Best alpha: 0.001\n",
      "Best penalty: l1\n",
      "\n",
      "The accuracy of the SGD Classifier for alpha = 0.001000% and best_penalty = l1 is 83.000000%\n"
     ]
    }
   ],
   "source": [
    "#SGD Classf.\n",
    "from sklearn.metrics import accuracy_score\n",
    "\n",
    "opt_alpha,best_penalty = sgd_clf(tfidf_w2v_train[0],tfidf_w2v_train[1])\n",
    "sgd = SGDClassifier(alpha=opt_alpha,penalty=best_penalty)\n",
    "sgd.fit(tfidf_w2v_train[0],tfidf_w2v_train[1])\n",
    "pred = sgd.predict(tfidf_w2v_test[0])\n",
    "acc = accuracy_score(tfidf_w2v_test[1], pred) * 100\n",
    "train_error=sgd.score(tfidf_w2v_train[0],tfidf_w2v_train[1])\n",
    "test_error=sgd.score(tfidf_w2v_test[0],tfidf_w2v_test[1])\n",
    "print('\\nThe accuracy of the SGD Classifier for alpha = %f%% and best_penalty = %s is %f%%' % (opt_alpha,best_penalty, acc))"
   ]
  },
  {
   "cell_type": "code",
   "execution_count": 151,
   "metadata": {},
   "outputs": [
    {
     "name": "stdout",
     "output_type": "stream",
     "text": [
      "[[  0  51]\n",
      " [  0 249]]\n"
     ]
    },
    {
     "data": {
      "image/png": "[encoded data removed]",
      "text/plain": [
       "<matplotlib.figure.Figure at 0x28988f6bb38>"
      ]
     },
     "metadata": {},
     "output_type": "display_data"
    }
   ],
   "source": [
    "confusion_matrix_plot(tfidf_w2v_test[1],pred)"
   ]
  },
  {
   "cell_type": "code",
   "execution_count": 153,
   "metadata": {},
   "outputs": [
    {
     "name": "stdout",
     "output_type": "stream",
     "text": [
      "             precision    recall  f1-score   support\n",
      "\n",
      "          0       0.00      0.00      0.00        51\n",
      "          1       0.83      1.00      0.91       249\n",
      "\n",
      "avg / total       0.69      0.83      0.75       300\n",
      "\n"
     ]
    }
   ],
   "source": [
    "print(classification_report(tfidf_w2v_test[1],pred))"
   ]
  },
  {
   "cell_type": "code",
   "execution_count": null,
   "metadata": {},
   "outputs": [],
   "source": []
  }
 ],
 "metadata": {
  "kernelspec": {
   "display_name": "Python 3",
   "language": "python",
   "name": "python3"
  },
  "language_info": {
   "codemirror_mode": {
    "name": "ipython",
    "version": 3
   },
   "file_extension": ".py",
   "mimetype": "text/x-python",
   "name": "python",
   "nbconvert_exporter": "python",
   "pygments_lexer": "ipython3",
   "version": "3.6.4"
  }
 },
 "nbformat": 4,
 "nbformat_minor": 2
}
