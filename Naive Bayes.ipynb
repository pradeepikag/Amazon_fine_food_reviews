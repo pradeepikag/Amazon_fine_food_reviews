{
 "cells": [
  {
   "cell_type": "code",
   "execution_count": 193,
   "metadata": {},
   "outputs": [],
   "source": [
    "%matplotlib inline\n",
    "import warnings\n",
    "warnings.filterwarnings(\"ignore\")\n",
    "\n",
    "import sqlite3\n",
    "import pandas as pd\n",
    "import numpy as np\n",
    "import nltk\n",
    "import string\n",
    "import matplotlib.pyplot as plt\n",
    "import seaborn as sns\n",
    "from sklearn.feature_extraction.text import TfidfTransformer\n",
    "from sklearn.feature_extraction.text import TfidfVectorizer\n",
    "\n",
    "from sklearn.feature_extraction.text import CountVectorizer\n",
    "from sklearn.cross_validation import train_test_split\n",
    "from sklearn.metrics import confusion_matrix\n",
    "from sklearn import metrics\n",
    "from sklearn.metrics import roc_curve, auc\n",
    "from nltk.stem.porter import PorterStemmer\n",
    "\n",
    "import re\n",
    "import string\n",
    "from nltk.corpus import stopwords\n",
    "from nltk.stem import PorterStemmer\n",
    "from nltk.stem.wordnet import WordNetLemmatizer\n",
    "\n",
    "#import packages for w2v\n",
    "from gensim.models import Word2Vec\n",
    "from gensim.models import KeyedVectors\n",
    "import pickle"
   ]
  },
  {
   "cell_type": "code",
   "execution_count": 194,
   "metadata": {},
   "outputs": [],
   "source": [
    "# using the SQLite Table to read data.\n",
    "con = sqlite3.connect('database.sqlite') \n",
    "\n",
    "#filtering only positive and negative reviews i.e. not taking into consideration those reviews with Score=3\n",
    "filtered_data = pd.read_sql_query(\"\"\" SELECT * FROM Reviews WHERE Score != 3 \"\"\", con)"
   ]
  },
  {
   "cell_type": "markdown",
   "metadata": {},
   "source": [
    "# Data Preprocessing"
   ]
  },
  {
   "cell_type": "code",
   "execution_count": 195,
   "metadata": {},
   "outputs": [
    {
     "name": "stdout",
     "output_type": "stream",
     "text": [
      "(525814, 10)\n"
     ]
    },
    {
     "data": {
      "text/html": [
       "<div>\n",
       "<style scoped>\n",
       "    .dataframe tbody tr th:only-of-type {\n",
       "        vertical-align: middle;\n",
       "    }\n",
       "\n",
       "    .dataframe tbody tr th {\n",
       "        vertical-align: top;\n",
       "    }\n",
       "\n",
       "    .dataframe thead th {\n",
       "        text-align: right;\n",
       "    }\n",
       "</style>\n",
       "<table border=\"1\" class=\"dataframe\">\n",
       "  <thead>\n",
       "    <tr style=\"text-align: right;\">\n",
       "      <th></th>\n",
       "      <th>Id</th>\n",
       "      <th>ProductId</th>\n",
       "      <th>UserId</th>\n",
       "      <th>ProfileName</th>\n",
       "      <th>HelpfulnessNumerator</th>\n",
       "      <th>HelpfulnessDenominator</th>\n",
       "      <th>Score</th>\n",
       "      <th>Time</th>\n",
       "      <th>Summary</th>\n",
       "      <th>Text</th>\n",
       "    </tr>\n",
       "  </thead>\n",
       "  <tbody>\n",
       "    <tr>\n",
       "      <th>0</th>\n",
       "      <td>1</td>\n",
       "      <td>B001E4KFG0</td>\n",
       "      <td>A3SGXH7AUHU8GW</td>\n",
       "      <td>delmartian</td>\n",
       "      <td>1</td>\n",
       "      <td>1</td>\n",
       "      <td>positive</td>\n",
       "      <td>1303862400</td>\n",
       "      <td>Good Quality Dog Food</td>\n",
       "      <td>I have bought several of the Vitality canned d...</td>\n",
       "    </tr>\n",
       "    <tr>\n",
       "      <th>1</th>\n",
       "      <td>2</td>\n",
       "      <td>B00813GRG4</td>\n",
       "      <td>A1D87F6ZCVE5NK</td>\n",
       "      <td>dll pa</td>\n",
       "      <td>0</td>\n",
       "      <td>0</td>\n",
       "      <td>negative</td>\n",
       "      <td>1346976000</td>\n",
       "      <td>Not as Advertised</td>\n",
       "      <td>Product arrived labeled as Jumbo Salted Peanut...</td>\n",
       "    </tr>\n",
       "    <tr>\n",
       "      <th>2</th>\n",
       "      <td>3</td>\n",
       "      <td>B000LQOCH0</td>\n",
       "      <td>ABXLMWJIXXAIN</td>\n",
       "      <td>Natalia Corres \"Natalia Corres\"</td>\n",
       "      <td>1</td>\n",
       "      <td>1</td>\n",
       "      <td>positive</td>\n",
       "      <td>1219017600</td>\n",
       "      <td>\"Delight\" says it all</td>\n",
       "      <td>This is a confection that has been around a fe...</td>\n",
       "    </tr>\n",
       "    <tr>\n",
       "      <th>3</th>\n",
       "      <td>4</td>\n",
       "      <td>B000UA0QIQ</td>\n",
       "      <td>A395BORC6FGVXV</td>\n",
       "      <td>Karl</td>\n",
       "      <td>3</td>\n",
       "      <td>3</td>\n",
       "      <td>negative</td>\n",
       "      <td>1307923200</td>\n",
       "      <td>Cough Medicine</td>\n",
       "      <td>If you are looking for the secret ingredient i...</td>\n",
       "    </tr>\n",
       "    <tr>\n",
       "      <th>4</th>\n",
       "      <td>5</td>\n",
       "      <td>B006K2ZZ7K</td>\n",
       "      <td>A1UQRSCLF8GW1T</td>\n",
       "      <td>Michael D. Bigham \"M. Wassir\"</td>\n",
       "      <td>0</td>\n",
       "      <td>0</td>\n",
       "      <td>positive</td>\n",
       "      <td>1350777600</td>\n",
       "      <td>Great taffy</td>\n",
       "      <td>Great taffy at a great price.  There was a wid...</td>\n",
       "    </tr>\n",
       "  </tbody>\n",
       "</table>\n",
       "</div>"
      ],
      "text/plain": [
       "   Id   ProductId          UserId                      ProfileName  \\\n",
       "0   1  B001E4KFG0  A3SGXH7AUHU8GW                       delmartian   \n",
       "1   2  B00813GRG4  A1D87F6ZCVE5NK                           dll pa   \n",
       "2   3  B000LQOCH0   ABXLMWJIXXAIN  Natalia Corres \"Natalia Corres\"   \n",
       "3   4  B000UA0QIQ  A395BORC6FGVXV                             Karl   \n",
       "4   5  B006K2ZZ7K  A1UQRSCLF8GW1T    Michael D. Bigham \"M. Wassir\"   \n",
       "\n",
       "   HelpfulnessNumerator  HelpfulnessDenominator     Score        Time  \\\n",
       "0                     1                       1  positive  1303862400   \n",
       "1                     0                       0  negative  1346976000   \n",
       "2                     1                       1  positive  1219017600   \n",
       "3                     3                       3  negative  1307923200   \n",
       "4                     0                       0  positive  1350777600   \n",
       "\n",
       "                 Summary                                               Text  \n",
       "0  Good Quality Dog Food  I have bought several of the Vitality canned d...  \n",
       "1      Not as Advertised  Product arrived labeled as Jumbo Salted Peanut...  \n",
       "2  \"Delight\" says it all  This is a confection that has been around a fe...  \n",
       "3         Cough Medicine  If you are looking for the secret ingredient i...  \n",
       "4            Great taffy  Great taffy at a great price.  There was a wid...  "
      ]
     },
     "execution_count": 195,
     "metadata": {},
     "output_type": "execute_result"
    }
   ],
   "source": [
    "# Give reviews with Score>3 a positive rating, and reviews with a score<3 a negative rating.\n",
    "def partition(x):\n",
    "    if x < 3:\n",
    "        return 'negative'\n",
    "    return 'positive'\n",
    "\n",
    "#changing reviews with score less than 3 to be positive and vice-versa\n",
    "actualScore = filtered_data['Score']\n",
    "positiveNegative = actualScore.map(partition) \n",
    "filtered_data['Score'] = positiveNegative\n",
    "\n",
    "print(filtered_data.shape) #looking at the number of attributes and size of the data\n",
    "filtered_data.head()"
   ]
  },
  {
   "cell_type": "code",
   "execution_count": 196,
   "metadata": {},
   "outputs": [
    {
     "data": {
      "text/plain": [
       "(364173, 10)"
      ]
     },
     "execution_count": 196,
     "metadata": {},
     "output_type": "execute_result"
    }
   ],
   "source": [
    "import datetime\n",
    "filtered_data[\"Time\"]=pd.to_datetime(filtered_data[\"Time\"], format='%Y-%m-%d %H:%M:%S')\n",
    "\n",
    "#Sorting data according to ProductId in ascending order\n",
    "sorted_data=filtered_data.sort_values('ProductId', axis=0, ascending=True, inplace=False, kind='quicksort', na_position='last')\n",
    "\n",
    "#Deduplication of entries\n",
    "final=sorted_data.drop_duplicates(subset={\"UserId\",\"ProfileName\",\"Time\",\"Text\"}, keep='first', inplace=False)\n",
    "final.shape"
   ]
  },
  {
   "cell_type": "code",
   "execution_count": 197,
   "metadata": {},
   "outputs": [
    {
     "data": {
      "text/plain": [
       "69.25890143662969"
      ]
     },
     "execution_count": 197,
     "metadata": {},
     "output_type": "execute_result"
    }
   ],
   "source": [
    "#Checking to see how much % of data still remains\n",
    "(final['Id'].size*1.0)/(filtered_data['Id'].size*1.0)*100"
   ]
  },
  {
   "cell_type": "code",
   "execution_count": 198,
   "metadata": {},
   "outputs": [
    {
     "name": "stdout",
     "output_type": "stream",
     "text": [
      "(364173, 10)\n"
     ]
    }
   ],
   "source": [
    "#sording data by timestamp so that it can be divided in train and test dataset for time based slicing.\n",
    "final = final.sort_values('Time',axis=0,kind=\"quicksort\", ascending=True).reset_index(drop=True)\n",
    "\n",
    "print(final.shape)"
   ]
  },
  {
   "cell_type": "code",
   "execution_count": 199,
   "metadata": {},
   "outputs": [
    {
     "name": "stdout",
     "output_type": "stream",
     "text": [
      "(2000, 10)\n"
     ]
    },
    {
     "data": {
      "text/plain": [
       "<matplotlib.axes._subplots.AxesSubplot at 0x1fab586a160>"
      ]
     },
     "execution_count": 199,
     "metadata": {},
     "output_type": "execute_result"
    },
    {
     "data": {
      "image/png": "[encoded data removed]",
      "text/plain": [
       "<matplotlib.figure.Figure at 0x1faab9a8be0>"
      ]
     },
     "metadata": {},
     "output_type": "display_data"
    }
   ],
   "source": [
    "final=final[final.HelpfulnessNumerator<=final.HelpfulnessDenominator]\n",
    "final=final.sample(2000, replace=True)\n",
    "print(final.shape)\n",
    "\n",
    "#To know how many positive and negative reviews are present in our dataset\n",
    "final['Score'].value_counts()\n",
    "final['Score'].value_counts().plot(kind='bar')"
   ]
  },
  {
   "cell_type": "markdown",
   "metadata": {},
   "source": [
    "# Removing stopwords, punctuation and then we do stemming"
   ]
  },
  {
   "cell_type": "code",
   "execution_count": 241,
   "metadata": {},
   "outputs": [
    {
     "name": "stdout",
     "output_type": "stream",
     "text": [
      "{'themselves', 'has', 'himself', 'are', 'just', 'how', 'than', 'not', 'can', 'my', 'hadn', \"mustn't\", 'only', 'his', \"hasn't\", 'her', 'yours', \"couldn't\", \"doesn't\", 'over', 'needn', 'with', 'through', 'against', 'all', 'shan', 'to', 'other', 'haven', 'am', 'of', 'm', 'where', 'don', \"should've\", \"wasn't\", 'or', 'no', 'won', 'out', \"shan't\", 'doing', 'itself', 'same', 'very', 'they', 'was', \"hadn't\", 'our', 'having', 'him', 'its', 'she', 'why', 'theirs', 'should', 'i', 'the', 'wouldn', 'hers', 'yourself', \"wouldn't\", 'now', 'does', 'be', 'and', 'those', 'll', 'them', 'hasn', 'wasn', 'ma', \"aren't\", \"it's\", 'in', 'while', 'above', 'on', 'some', 'myself', 'weren', 'couldn', 'further', 'herself', \"that'll\", 'at', 'so', 'we', 'if', 'these', 'own', 't', \"you'll\", 'is', 'had', 'it', 'doesn', 'this', 'because', 'mightn', 'aren', 's', 'once', \"haven't\", 'down', 'what', 'yourselves', 'each', 'until', 'any', 'again', 'during', 'here', 'ain', 'when', 'about', \"didn't\", 'by', 'isn', 'were', 'before', 'shouldn', 'you', 'few', 'from', 'then', 'both', 'will', 'mustn', 'after', 'ourselves', 'ours', 'o', \"she's\", \"you're\", 'that', 'which', 'an', \"isn't\", 'your', 'between', 'do', 'there', \"shouldn't\", 'their', 'whom', 'who', 'a', \"you'd\", 'have', 'for', 'me', 'he', 'being', \"you've\", 'did', 'as', 'd', 'but', \"don't\", 'such', 'off', \"won't\", 'been', \"needn't\", 'up', 'nor', \"mightn't\", 'more', 'most', 'under', 'y', 're', 'too', 'didn', 'into', 've', \"weren't\", 'below'}\n",
      "************************************\n",
      "tasti\n"
     ]
    }
   ],
   "source": [
    "from nltk.corpus import stopwords\n",
    "stop = set(stopwords.words('english')) #set of stopwords\n",
    "sno = nltk.stem.SnowballStemmer('english') #initialising the snowball stemmer\n",
    "\n",
    "def cleanhtml(sentence): #function to clean the word of any html-tags\n",
    "    cleanr = re.compile('<.*?>')\n",
    "    cleantext = re.sub(cleanr, ' ', sentence)\n",
    "    return cleantext\n",
    "def cleanpunc(sentence): #function to clean the word of any punctuation or special characters\n",
    "    cleaned = re.sub(r'[?|!|\\'|\"|#]',r'',sentence)\n",
    "    cleaned = re.sub(r'[.|,|)|(|\\|/]',r' ',cleaned)\n",
    "    return  cleaned\n",
    "print(stop)\n",
    "print('************************************')\n",
    "print(sno.stem('tasty'))"
   ]
  },
  {
   "cell_type": "code",
   "execution_count": 201,
   "metadata": {},
   "outputs": [],
   "source": [
    "i=0\n",
    "str1=' '\n",
    "final_string=[]\n",
    "all_positive_words=[] # store words from +ve reviews here\n",
    "all_negative_words=[] # store words from -ve reviews here.\n",
    "s=''\n",
    "for sent in final['Text'].values:\n",
    "    filtered_sentence=[]\n",
    "    #print(sent);\n",
    "    sent=cleanhtml(sent) # remove HTMl tags\n",
    "    for w in sent.split():\n",
    "        for cleaned_words in cleanpunc(w).split():\n",
    "            if((cleaned_words.isalpha()) & (len(cleaned_words)>2)):    \n",
    "                if(cleaned_words.lower() not in stop):\n",
    "                    s=(sno.stem(cleaned_words.lower())).encode('utf8')\n",
    "                    filtered_sentence.append(s)\n",
    "                    if (final['Score'].values)[i] == 'positive': \n",
    "                        all_positive_words.append(s) #list of all words used to describe positive reviews\n",
    "                    if(final['Score'].values)[i] == 'negative':\n",
    "                        all_negative_words.append(s) #list of all words used to describe negative reviews reviews\n",
    "                else:\n",
    "                    continue\n",
    "            else:\n",
    "                continue \n",
    "    #print(filtered_sentence)\n",
    "    str1 = b\" \".join(filtered_sentence) #final string of cleaned words\n",
    "    #print(\"***********************************************************************\")\n",
    "    \n",
    "    final_string.append(str1)\n",
    "    i+=1"
   ]
  },
  {
   "cell_type": "code",
   "execution_count": 202,
   "metadata": {},
   "outputs": [
    {
     "name": "stdout",
     "output_type": "stream",
     "text": [
      "181895    best tast honey ive ever orang blossom delic e...\n",
      "151670    take get use use flour made wheat year slight ...\n",
      "27863     favorit rice roni cook easili make enough righ...\n",
      "25045     princ tea brand tea great premium oolong tea g...\n",
      "262914    puppi seem like work well assist train seem fr...\n",
      "245685    absolut wonder chocol exist chocol lover top e...\n",
      "359717    product delish two kid hubbi love fruit leathe...\n",
      "165080    old min pin sudden stop eat regular brand food...\n",
      "176691    item requir refriger ship kentucki weather war...\n",
      "354832    anoth hit red leaf red leaf great vendor suppl...\n",
      "141803    great coffe purchas bag aw lot coffe two peopl...\n",
      "292211    sad incred candi gem total addict els say stop...\n",
      "340417    tri mani coffe variti settl green mountain nan...\n",
      "174617    one best chocol eaten long time would recommen...\n",
      "25541     current favorit tea basic given lipton tea tri...\n",
      "263765    never tast nutro ultra dri puppi food dog thri...\n",
      "169218    syrup cassi hard find peopl settl creme cassi ...\n",
      "203972    want buy waffl mix sinc husband tast free hote...\n",
      "153387    packag mislead expect product popsecret normal...\n",
      "159183    idea heat unit kind doubt frontier either hey ...\n",
      "345705    tap water drinker heart give camelback bottl h...\n",
      "114424    okay first thing like pound full delici would ...\n",
      "331516    great stuff soooooo good purchas wife new diet...\n",
      "1219      combin citrus zest spice mix black tea tea exc...\n",
      "34461     wayyyyy expens per bar yes bounti bar ultim ch...\n",
      "359883    given choic version dark chocol version well c...\n",
      "14403     pleas consid whether want buy consum someth cr...\n",
      "33140     excel chew dog allerg grain realli help keep t...\n",
      "234966    despit negat review took gambl order varieti s...\n",
      "81668     love lapsang souchong tea mani year taylor har...\n",
      "                                ...                        \n",
      "110164    product came packag outsid although open produ...\n",
      "298826    ive bought bene wet food dog love goe dri food...\n",
      "200624    best coffe good better seattl best starbuck go...\n",
      "198071    child love easi use product would recommend qu...\n",
      "275688    realli like tast mix water bottl cold refriger...\n",
      "277388    live countri whenev buy bulk froze couldnt use...\n",
      "63640     dark coffe bitter smooth silk alway use qualit...\n",
      "163903    review honey graham stick son diagnos food all...\n",
      "316822    first bad thing ive tri starbuck fontana ghira...\n",
      "1273      absolut love coffe extrem rich smooth without ...\n",
      "64156     avid chip eater ever sinc child alway salti to...\n",
      "187970    mistak mayb local thing squirrel nut candi gro...\n",
      "106576    great product ive seen littl competit yet see ...\n",
      "249277    food pretti expens especi singl mom pasta teen...\n",
      "113181    love coffe best place order coffe almost everi...\n",
      "188566    may prime target market coffe acid never probl...\n",
      "23311                 bought coffe husband like lot certain\n",
      "241835    pleasant blueberri flavor care dont add much w...\n",
      "308579    hate put gluten free food need food hard press...\n",
      "298697    cup differ paper filter doesnt get punch like ...\n",
      "304197    add tablespoon pancak batter drop banana extra...\n",
      "207366    hey busi med student short time ill get point ...\n",
      "54121     excel valu money worth everi penni espesso alw...\n",
      "324282    product look disgust packag bought onlin seen ...\n",
      "245911    tanzania strawberri tanzania amaz tast like re...\n",
      "340597    like coffe littl cream sugar dont miss wonder ...\n",
      "69423     cat love food hard time find wet food would ea...\n",
      "335614    water desir drink water high liter protect man...\n",
      "79396     soy milk tast exact like soy milk thick consis...\n",
      "55555     compani great ship super fast vanilla bean plu...\n",
      "Name: CleanedText, Length: 2000, dtype: object\n"
     ]
    }
   ],
   "source": [
    "final['CleanedText']=final_string #adding a column of CleanedText which displays the data after pre-processing of the review \n",
    "final['CleanedText']=final['CleanedText'].str.decode(\"utf-8\")\n",
    "print(final['CleanedText'])"
   ]
  },
  {
   "cell_type": "code",
   "execution_count": 203,
   "metadata": {},
   "outputs": [],
   "source": [
    "final.head(3) #below the processed review can be seen in the CleanedText Column \n",
    "\n",
    "# store final table into an SQlLite table for future.\n",
    "conn = sqlite3.connect('final.sqlite')\n",
    "c=conn.cursor()\n",
    "conn.text_factory = str\n",
    "final.to_sql('Reviews', conn,  schema=None, if_exists='replace', index=True, index_label=None, chunksize=None, dtype=None)"
   ]
  },
  {
   "cell_type": "code",
   "execution_count": 216,
   "metadata": {},
   "outputs": [],
   "source": [
    "#method for finding optimal value of alpha\n",
    "from sklearn.cross_validation import cross_val_score\n",
    "#from sklearn.naive_bayes.MultinomialNB\n",
    "from sklearn.naive_bayes import BernoulliNB\n",
    "\n",
    "#MultinomialNB(alpha=1.0, fit_prior=True, class_prior=None)\n",
    "\n",
    "def find_optimal_alpha(X_train,y_train):\n",
    "   \n",
    "    # empty list that will hold cv scores\n",
    "    cv_scores = []\n",
    "    myList = list(range(0,100))\n",
    "    # split the train data set into cross validation train and cross validation test\n",
    "    X_tr, X_cv, y_tr, y_cv = cross_validation.train_test_split(X_train, y_train, test_size=0.3)\n",
    "\n",
    "    for i in myList:\n",
    "        nb = BernoulliNB(alpha = i)\n",
    "        model = nb.fit(X_tr, y_tr)\n",
    "\n",
    "        # predict the response on the crossvalidation train\n",
    "        pred = model.predict(X_cv)\n",
    "\n",
    "        # evaluate CV accuracy\n",
    "        acc = accuracy_score(y_cv, pred, normalize=True)\n",
    "        cv_scores.append(acc)\n",
    "        \n",
    "    # changing to misclassification error\n",
    "    MSE = [1 - x for x in cv_scores]\n",
    "\n",
    "    # determining best alpha\n",
    "    optimal_alpha = myList[MSE.index(min(MSE))]\n",
    "    print('\\nThe optimal alpha is ', optimal_alpha)\n",
    "\n",
    "\n",
    "    plt.figure(figsize=(10,6))\n",
    "    plt.plot(myList,MSE,color='blue', linestyle='dashed', marker='o',\n",
    "             markerfacecolor='red', markersize=10)\n",
    "    plt.title('Error Rate vs. alpha Value')\n",
    "    plt.xlabel('alpha')\n",
    "    plt.ylabel('Error Rate')\n",
    "\n",
    "    print(\"the misclassification error for each k value is : \", np.round(MSE,3))\n",
    "    \n",
    "    return optimal_alpha\n"
   ]
  },
  {
   "cell_type": "code",
   "execution_count": 217,
   "metadata": {},
   "outputs": [],
   "source": [
    "#Plotting the confusion matrix\n",
    "from sklearn.metrics import confusion_matrix\n",
    "def confusion_matrix_plot(y_test,pred):\n",
    "    labels = ['negative','positive']\n",
    "    cm = confusion_matrix(y_test, pred, labels)\n",
    "    print(cm)\n",
    "    fig = plt.figure()\n",
    "    ax = fig.add_subplot(111)\n",
    "    sns.heatmap(cm, annot=True, ax = ax, fmt='g')\n",
    "    cax = ax.matshow(cm)\n",
    "    plt.title('Confusion matrix of the classifier')\n",
    "    #fig.colorbar(cax)\n",
    "    ax.set_xticklabels([''] + labels)\n",
    "    ax.set_yticklabels([''] + labels)\n",
    "    plt.xlabel('Predicted')\n",
    "    plt.ylabel('True')\n",
    "    plt.show()"
   ]
  },
  {
   "cell_type": "markdown",
   "metadata": {},
   "source": [
    "# Splitting and saving the data into respective files"
   ]
  },
  {
   "cell_type": "code",
   "execution_count": 218,
   "metadata": {},
   "outputs": [],
   "source": [
    "X = final['CleanedText']\n",
    "y = final['Score']\n",
    "X_train, X_test, y_train, y_test = train_test_split(X, y, test_size=0.3, random_state=0)"
   ]
  },
  {
   "cell_type": "code",
   "execution_count": 219,
   "metadata": {},
   "outputs": [
    {
     "data": {
      "text/plain": [
       "\"import pickle\\nfilename1 = 'train_data.sav'\\npickle.dump(X_train, open(filename1, 'wb'))\\n\\nfilename2 = 'test_data.sav'\\npickle.dump(X_test, open(filename2, 'wb'))\\n\\nX_train1 = pickle.load(open(filename1, 'rb'))\\nX_test1 = pickle.load(open(filename2, 'rb'))\\nimport math\\n\\nX_train =  X[:math.ceil(len(final)*.7)] \\nX_test = X[math.ceil(len(final)*.7):]\\ny_train = y[:math.ceil(len(final)*.7)]\\ny_test =  y[math.ceil(len(final)*.7):]\""
      ]
     },
     "execution_count": 219,
     "metadata": {},
     "output_type": "execute_result"
    }
   ],
   "source": [
    "# save the data to disk\n",
    "\"\"\"import pickle\n",
    "filename1 = 'train_data.sav'\n",
    "pickle.dump(X_train, open(filename1, 'wb'))\n",
    "\n",
    "filename2 = 'test_data.sav'\n",
    "pickle.dump(X_test, open(filename2, 'wb'))\n",
    "\n",
    "X_train1 = pickle.load(open(filename1, 'rb'))\n",
    "X_test1 = pickle.load(open(filename2, 'rb'))\n",
    "import math\n",
    "\n",
    "X_train =  X[:math.ceil(len(final)*.7)] \n",
    "X_test = X[math.ceil(len(final)*.7):]\n",
    "y_train = y[:math.ceil(len(final)*.7)]\n",
    "y_test =  y[math.ceil(len(final)*.7):]\"\"\""
   ]
  },
  {
   "cell_type": "markdown",
   "metadata": {},
   "source": [
    "# Bag of Words"
   ]
  },
  {
   "cell_type": "code",
   "execution_count": 220,
   "metadata": {},
   "outputs": [],
   "source": [
    "count_vect = CountVectorizer(ngram_range=(1,2)) \n",
    "final_bow_count = count_vect.fit_transform(X_train)"
   ]
  },
  {
   "cell_type": "code",
   "execution_count": 221,
   "metadata": {},
   "outputs": [
    {
     "name": "stdout",
     "output_type": "stream",
     "text": [
      "(1400, 46399)\n"
     ]
    }
   ],
   "source": [
    "print(final_bow_count.shape)"
   ]
  },
  {
   "cell_type": "code",
   "execution_count": 222,
   "metadata": {},
   "outputs": [
    {
     "data": {
      "text/plain": [
       "(1400,)"
      ]
     },
     "execution_count": 222,
     "metadata": {},
     "output_type": "execute_result"
    }
   ],
   "source": [
    "y_train.shape"
   ]
  },
  {
   "cell_type": "code",
   "execution_count": 223,
   "metadata": {},
   "outputs": [
    {
     "data": {
      "text/plain": [
       "(600,)"
      ]
     },
     "execution_count": 223,
     "metadata": {},
     "output_type": "execute_result"
    }
   ],
   "source": [
    "#final_y_train = count_vect.fit_transform(y_train)\n",
    "#final_y_test = count_vect.transform(y_test)\n",
    "y_test.shape"
   ]
  },
  {
   "cell_type": "code",
   "execution_count": 224,
   "metadata": {},
   "outputs": [
    {
     "data": {
      "text/plain": [
       "(600, 46399)"
      ]
     },
     "execution_count": 224,
     "metadata": {},
     "output_type": "execute_result"
    }
   ],
   "source": [
    "X_test_vec= count_vect.transform(X_test)\n",
    "X_test_vec.shape"
   ]
  },
  {
   "cell_type": "code",
   "execution_count": 225,
   "metadata": {},
   "outputs": [
    {
     "name": "stdout",
     "output_type": "stream",
     "text": [
      "\n",
      "The optimal alpha is  6\n",
      "the misclassification error for each k value is :  [0.16  0.157 0.15  0.15  0.15  0.15  0.148 0.148 0.148 0.148 0.148 0.148\n",
      " 0.148 0.148 0.148 0.148 0.148 0.148 0.148 0.148 0.148 0.148 0.148 0.148\n",
      " 0.148 0.148 0.148 0.148 0.148 0.148 0.148 0.148 0.148 0.148 0.148 0.148\n",
      " 0.148 0.148 0.148 0.148 0.148 0.148 0.148 0.148 0.148 0.148 0.148 0.148\n",
      " 0.148 0.148 0.148 0.148 0.148 0.148 0.148 0.148 0.148 0.148 0.148 0.148\n",
      " 0.148 0.148 0.148 0.148 0.148 0.148 0.148 0.148 0.148 0.148 0.148 0.148\n",
      " 0.148 0.148 0.148 0.148 0.148 0.148 0.148 0.148 0.148 0.148 0.148 0.148\n",
      " 0.148 0.148 0.148 0.148 0.148 0.148 0.148 0.148 0.148 0.148 0.148 0.148\n",
      " 0.148 0.148 0.148 0.148]\n",
      "6\n"
     ]
    },
    {
     "data": {
      "image/png": "[encoded data removed]",
      "text/plain": [
       "<matplotlib.figure.Figure at 0x1fafa00bc50>"
      ]
     },
     "metadata": {},
     "output_type": "display_data"
    }
   ],
   "source": [
    "from sklearn import cross_validation\n",
    "\n",
    "optimal_alpha = find_optimal_alpha(final_bow_count,y_train)\n",
    "\n",
    "print(optimal_alpha)"
   ]
  },
  {
   "cell_type": "code",
   "execution_count": 226,
   "metadata": {},
   "outputs": [
    {
     "name": "stdout",
     "output_type": "stream",
     "text": [
      "\n",
      "The accuracy of the knn classifier for k = 6 is 85.833333%\n"
     ]
    }
   ],
   "source": [
    "from sklearn.metrics import accuracy_score\n",
    "\n",
    "from sklearn.naive_bayes import MultinomialNB\n",
    "\n",
    "nb = BernoulliNB(alpha=optimal_alpha)\n",
    "nb.fit(final_bow_count, y_train)\n",
    "pred = nb.predict(X_test_vec)\n",
    "# y_test = count_vect.fit_transform(y_test)\n",
    "acc = accuracy_score(y_test, pred) * 100\n",
    "train_error=nb.score(final_bow_count, y_train)\n",
    "test_error=nb.score(X_test_vec, y_test)\n",
    "print('\\nThe accuracy of the knn classifier for k = %d is %f%%' % (optimal_alpha, acc))"
   ]
  },
  {
   "cell_type": "code",
   "execution_count": 227,
   "metadata": {},
   "outputs": [
    {
     "name": "stdout",
     "output_type": "stream",
     "text": [
      "[[  0  85]\n",
      " [  0 515]]\n"
     ]
    },
    {
     "data": {
      "image/png": "[encoded data removed]",
      "text/plain": [
       "<matplotlib.figure.Figure at 0x1fafa2070f0>"
      ]
     },
     "metadata": {},
     "output_type": "display_data"
    }
   ],
   "source": [
    "confusion_matrix_plot(y_test,pred)"
   ]
  },
  {
   "cell_type": "markdown",
   "metadata": {},
   "source": [
    "# Important Features"
   ]
  },
  {
   "cell_type": "code",
   "execution_count": 228,
   "metadata": {},
   "outputs": [
    {
     "name": "stdout",
     "output_type": "stream",
     "text": [
      "['aarp' 'paid local' 'paid premium' 'paid set' 'paid ship' 'paid starbuck'\n",
      " 'paid walmart' 'paid way' 'paid last' 'pain deliv']\n",
      "['problem bat' 'bud final' 'bud clear' 'think energi' 'prepar even'\n",
      " 'think explain' 'flavor fast' 'new england' 'prepar ingredi' 'think hard']\n"
     ]
    }
   ],
   "source": [
    "neg_class_prob_sorted = nb.feature_log_prob_[0, :].argsort()\n",
    "pos_class_prob_sorted = nb.feature_log_prob_[1, :].argsort()\n",
    "\n",
    "#Sorting the features in the order of importance and printing the top 10 features\n",
    "print(np.take(count_vect.get_feature_names(), neg_class_prob_sorted[:10]))\n",
    "print(np.take(count_vect.get_feature_names(), pos_class_prob_sorted[:10]))"
   ]
  },
  {
   "cell_type": "code",
   "execution_count": 229,
   "metadata": {},
   "outputs": [
    {
     "name": "stdout",
     "output_type": "stream",
     "text": [
      "             precision    recall  f1-score   support\n",
      "\n",
      "   negative       0.00      0.00      0.00        85\n",
      "   positive       0.86      1.00      0.92       515\n",
      "\n",
      "avg / total       0.74      0.86      0.79       600\n",
      "\n"
     ]
    }
   ],
   "source": [
    "#Printing Classification Report\n",
    "from sklearn.metrics import classification_report\n",
    "\n",
    "print(classification_report(y_test,pred))"
   ]
  },
  {
   "cell_type": "code",
   "execution_count": 230,
   "metadata": {},
   "outputs": [
    {
     "name": "stdout",
     "output_type": "stream",
     "text": [
      "Hyper parameter Train error Test error\n",
      "--------------- ----------- ----------\n",
      "              6   0.8528572 0.85833335\n"
     ]
    }
   ],
   "source": [
    "#Printing final results\n",
    "from astropy.table import Table, Column\n",
    "t = Table(names=( \"Hyper parameter\", \"Train error\",\"Test error\"), dtype=('i4', 'f4', 'f4'))\n",
    "t.add_row((optimal_alpha, train_error, test_error))\n",
    "print(t)"
   ]
  },
  {
   "cell_type": "markdown",
   "metadata": {},
   "source": [
    "# TF-IDF"
   ]
  },
  {
   "cell_type": "code",
   "execution_count": 143,
   "metadata": {},
   "outputs": [],
   "source": [
    "tf_idf_vec = TfidfVectorizer(ngram_range=(1,2))\n",
    "final_tfidf_count = tf_idf_vec.fit_transform(X_train)"
   ]
  },
  {
   "cell_type": "code",
   "execution_count": 144,
   "metadata": {},
   "outputs": [],
   "source": [
    "from sklearn.preprocessing import StandardScaler\n",
    "\n",
    "final_tfidf_np = StandardScaler(with_mean=False).fit_transform(final_tfidf_count)\n",
    "X_test_dtm = tf_idf_vec.transform(X_test)"
   ]
  },
  {
   "cell_type": "code",
   "execution_count": 145,
   "metadata": {},
   "outputs": [
    {
     "name": "stdout",
     "output_type": "stream",
     "text": [
      "\n",
      "The optimal alpha is  1e-05\n",
      "the misclassification error for each k value is :  [0.14  0.169 0.179 0.179 0.179 0.19  0.195 0.198 0.21  0.214 0.214 0.214\n",
      " 0.224 0.231 0.229 0.231 0.233 0.24  0.248 0.25 ]\n"
     ]
    },
    {
     "data": {
      "image/png": "[encoded data removed]",
      "text/plain": [
       "<matplotlib.figure.Figure at 0x1faa7c66940>"
      ]
     },
     "metadata": {},
     "output_type": "display_data"
    }
   ],
   "source": [
    "optimal_alpha = find_optimal_alpha(final_tfidf_count,y_train)"
   ]
  },
  {
   "cell_type": "code",
   "execution_count": 235,
   "metadata": {},
   "outputs": [
    {
     "name": "stdout",
     "output_type": "stream",
     "text": [
      "\n",
      "The accuracy of the knn classifier for alpha = 6 is 85.833333%\n"
     ]
    }
   ],
   "source": [
    "nb = BernoulliNB(alpha=optimal_alpha)\n",
    "nb.fit(final_tfidf_np, y_train)\n",
    "pred = nb.predict(X_test_dtm)\n",
    "acc = accuracy_score(y_test, pred) * 100\n",
    "train_error=nb.score(final_tfidf_np, y_train)\n",
    "test_error=nb.score(X_test_dtm, y_test)\n",
    "print('\\nThe accuracy of the knn classifier for alpha = %d is %f%%' % (optimal_alpha, acc))"
   ]
  },
  {
   "cell_type": "code",
   "execution_count": 147,
   "metadata": {},
   "outputs": [
    {
     "name": "stdout",
     "output_type": "stream",
     "text": [
      "[[ 66  55]\n",
      " [  1 478]]\n"
     ]
    },
    {
     "data": {
      "image/png": "[encoded data removed]",
      "text/plain": [
       "<matplotlib.figure.Figure at 0x1fab83f1dd8>"
      ]
     },
     "metadata": {},
     "output_type": "display_data"
    }
   ],
   "source": [
    "confusion_matrix_plot(y_test,pred)"
   ]
  },
  {
   "cell_type": "code",
   "execution_count": 186,
   "metadata": {},
   "outputs": [
    {
     "name": "stdout",
     "output_type": "stream",
     "text": [
      "['aaaaawsom' 'packag left' 'packag last' 'packag keep' 'packag item'\n",
      " 'packag instead' 'packag individu' 'packag ill' 'packag howev'\n",
      " 'packag hold']\n",
      "['inde becom' 'nap hit' 'fortifi blend' 'clear equal' 'clear color' 'nap'\n",
      " 'clear bag' 'someth differ' 'someth doesnt' 'someth eat']\n"
     ]
    }
   ],
   "source": [
    "neg_class_prob_sorted = nb.feature_log_prob_[0, :].argsort()\n",
    "pos_class_prob_sorted = nb.feature_log_prob_[1, :].argsort()\n",
    "\n",
    "#Sorting the features in the order of importance and printing the top 10 features\n",
    "print(np.take(count_vect.get_feature_names(), neg_class_prob_sorted[:10]))\n",
    "print(np.take(count_vect.get_feature_names(), pos_class_prob_sorted[:10]))"
   ]
  },
  {
   "cell_type": "code",
   "execution_count": 187,
   "metadata": {},
   "outputs": [
    {
     "name": "stdout",
     "output_type": "stream",
     "text": [
      "             precision    recall  f1-score   support\n",
      "\n",
      "   negative       0.96      0.56      0.71       121\n",
      "   positive       0.90      0.99      0.94       479\n",
      "\n",
      "avg / total       0.91      0.91      0.90       600\n",
      "\n"
     ]
    }
   ],
   "source": [
    "print(classification_report(y_test,pred))"
   ]
  },
  {
   "cell_type": "markdown",
   "metadata": {},
   "source": [
    "# Avg W2V"
   ]
  },
  {
   "cell_type": "code",
   "execution_count": 148,
   "metadata": {},
   "outputs": [],
   "source": [
    "import gensim\n",
    "i=0\n",
    "str1=''\n",
    "list_of_sent=[]\n",
    "final_string_for_tfidf = []\n",
    "for sent in X_train.values:\n",
    "    filtered_sentence=[]\n",
    "    sent=cleanhtml(sent)\n",
    "    str1 = ''\n",
    "    for w in sent.split():\n",
    "        for cleaned_words in cleanpunc(w).split():\n",
    "            if((cleaned_words.isalpha()) & (cleaned_words.lower() not in stop)):    \n",
    "                filtered_sentence.append(cleaned_words.lower())\n",
    "                str1 += \" \"+cleaned_words.lower() \n",
    "            else:\n",
    "                continue\n",
    "    list_of_sent.append(filtered_sentence)\n",
    "    final_string_for_tfidf.append((str1).strip())\n",
    "    \n",
    "i=0\n",
    "list_of_sent=[]\n",
    "for sent in X_Train.values:\n",
    "    filtered_sentence=[]\n",
    "    sent=cleanhtml(sent)\n",
    "    for w in sent.split():\n",
    "        for cleaned_words in cleanpunct(w).split():\n",
    "            if(cleaned_words.isalpha()):    \n",
    "                filtered_sentence.append(cleaned_words.lower())\n",
    "            else:\n",
    "                continue \n",
    "    list_of_sent.append(filtered_sentence)"
   ]
  },
  {
   "cell_type": "code",
   "execution_count": 149,
   "metadata": {},
   "outputs": [],
   "source": [
    "# can you scroll up to that error\n",
    "w2v_model=gensim.models.Word2Vec(list_of_sent,min_count=5,size=50, workers=4)\n",
    "words = list(w2v_model.wv.vocab)"
   ]
  },
  {
   "cell_type": "code",
   "execution_count": 188,
   "metadata": {},
   "outputs": [],
   "source": [
    "sent_vectors = [];    \n",
    "for sent in X_train: # for each review/sentence\n",
    "    sent_vec = np.zeros(50) # as word vectors are of zero length\n",
    "    cnt_words =0; # num of words with a valid vector in the sentence/review\n",
    "    for word in sent: # for each word in a review/sentence\n",
    "        try:\n",
    "            vec = w2v_model.wv[word]\n",
    "            sent_vec += vec\n",
    "            cnt_words += 1\n",
    "        except:\n",
    "            pass\n",
    "    sent_vec /= cnt_words\n",
    "    sent_vectors.append(sent_vec)\n",
    "\n",
    "X_train_Vectorised = sent_vectors\n",
    "\n",
    "sent_vectors = [];    \n",
    "for sent in X_test: # for each review/sentence\n",
    "    sent_vec = np.zeros(50) # as word vectors are of zero length\n",
    "    cnt_words =0; # num of words with a valid vector in the sentence/review\n",
    "    for word in sent: # for each word in a review/sentence\n",
    "        try:\n",
    "            vec = w2v_model.wv[word]\n",
    "            sent_vec += vec\n",
    "            cnt_words += 1\n",
    "        except:\n",
    "            pass\n",
    "    sent_vec /= cnt_words\n",
    "    sent_vectors.append(sent_vec)\n",
    "\n",
    "X_test_Vectorised = sent_vectors\n",
    "\n",
    "np.where(np.isnan(X_test_Vectorised))\n",
    "X_train_Vectorised = np.nan_to_num(X_train_Vectorised)\n",
    "X_test_Vectorised = np.nan_to_num(X_test_Vectorised)"
   ]
  },
  {
   "cell_type": "code",
   "execution_count": 189,
   "metadata": {},
   "outputs": [
    {
     "data": {
      "text/plain": [
       "\"scaler = StandardScaler()\\n#X = sent_vectors\\n#y = final['Score']\\n#X_train, X_test, y_train, y_test = train_test_split(X, y, test_size=0.3, random_state=0)\\n#scaler = StandardScaler()\\nscaler1=scaler.fit(X_train_Vectorised)\\nfinal_w2v_count = scaler1.transform(X_train_Vectorised)\\nX_test_vec = scaler.transform(X_test_Vectorised)\\nprint(final_w2v_count.shape)\\nprint(X_test_vec.shape)\""
      ]
     },
     "execution_count": 189,
     "metadata": {},
     "output_type": "execute_result"
    }
   ],
   "source": [
    "\"\"\"scaler = StandardScaler()\n",
    "#X = sent_vectors\n",
    "#y = final['Score']\n",
    "#X_train, X_test, y_train, y_test = train_test_split(X, y, test_size=0.3, random_state=0)\n",
    "#scaler = StandardScaler()\n",
    "scaler1=scaler.fit(X_train_Vectorised)\n",
    "final_w2v_count = scaler1.transform(X_train_Vectorised)\n",
    "X_test_vec = scaler.transform(X_test_Vectorised)\n",
    "print(final_w2v_count.shape)\n",
    "print(X_test_vec.shape)\"\"\"\n",
    "\n"
   ]
  },
  {
   "cell_type": "code",
   "execution_count": 190,
   "metadata": {},
   "outputs": [
    {
     "name": "stdout",
     "output_type": "stream",
     "text": [
      "\n",
      "The optimal alpha is  1e-05\n",
      "the misclassification error for each k value is :  [0.183 0.183 0.183 0.183 0.183 0.183 0.183 0.183 0.183 0.183 0.183 0.183\n",
      " 0.183 0.183 0.183 0.183 0.183 0.183 0.183 0.183]\n"
     ]
    },
    {
     "data": {
      "image/png": "[encoded data removed]",
      "text/plain": [
       "<matplotlib.figure.Figure at 0x1fa97abbe10>"
      ]
     },
     "metadata": {},
     "output_type": "display_data"
    }
   ],
   "source": [
    "optimal_alpha = find_optimal_alpha(X_train_Vectorised,y_train)"
   ]
  },
  {
   "cell_type": "code",
   "execution_count": 236,
   "metadata": {},
   "outputs": [
    {
     "name": "stdout",
     "output_type": "stream",
     "text": [
      "\n",
      "The accuracy of the knn classifier for alpha = 6 is 85.833333%\n"
     ]
    }
   ],
   "source": [
    "nb = BernoulliNB(alpha=optimal_alpha)\n",
    "nb.fit(X_train_Vectorised, y_train)\n",
    "pred = nb.predict(X_test_Vectorised)\n",
    "acc = accuracy_score(y_test, pred) * 100\n",
    "train_error=nb.score(X_train_Vectorised, y_train)\n",
    "test_error=nb.score(X_test_Vectorised, y_test)\n",
    "print('\\nThe accuracy of the knn classifier for alpha = %d is %f%%' % (optimal_alpha, acc))"
   ]
  },
  {
   "cell_type": "code",
   "execution_count": 192,
   "metadata": {},
   "outputs": [
    {
     "name": "stdout",
     "output_type": "stream",
     "text": [
      "[[  0 121]\n",
      " [  0 479]]\n"
     ]
    },
    {
     "data": {
      "image/png": "[encoded data removed]",
      "text/plain": [
       "<matplotlib.figure.Figure at 0x1fa8d8a3390>"
      ]
     },
     "metadata": {},
     "output_type": "display_data"
    }
   ],
   "source": [
    "confusion_matrix_plot(y_test,pred)"
   ]
  },
  {
   "cell_type": "code",
   "execution_count": 231,
   "metadata": {},
   "outputs": [
    {
     "name": "stdout",
     "output_type": "stream",
     "text": [
      "             precision    recall  f1-score   support\n",
      "\n",
      "   negative       0.00      0.00      0.00        85\n",
      "   positive       0.86      1.00      0.92       515\n",
      "\n",
      "avg / total       0.74      0.86      0.79       600\n",
      "\n"
     ]
    }
   ],
   "source": [
    "print(classification_report(y_test,pred))"
   ]
  },
  {
   "cell_type": "markdown",
   "metadata": {},
   "source": [
    "# TF-IDF W2V"
   ]
  },
  {
   "cell_type": "code",
   "execution_count": 232,
   "metadata": {},
   "outputs": [],
   "source": [
    "tf_idf_vec_w = TfidfVectorizer()\n",
    "\n",
    "final_tfidf_w = tf_idf_vec_w.fit_transform(final_string_for_tfidf)\n",
    "tfidf_feature = tf_idf_vec_w.get_feature_names()\n",
    "tfidf_sent_vectors = [];\n",
    "row=0;\n",
    "for sent in X_train.values:  \n",
    "    sent_vec = np.zeros(50) \n",
    "    weight_sum =0;\n",
    "    for word in sent:\n",
    "        try:\n",
    "            vec = w2v_model.wv[word]\n",
    "            tf_idf = final_tfidf_w[row, tfidf_feature.index(word)]\n",
    "            sent_vec += (vec * tf_idf)\n",
    "            weight_sum += tf_idf\n",
    "        except Exception as e: \n",
    "            pass #print(e)\n",
    "            \n",
    "    try:\n",
    "        sent_vec /= weight_sum\n",
    "    except:\n",
    "        print(e)\n",
    "        \n",
    "    tfidf_sent_vectors.append(sent_vec)\n",
    "    row += 1\n",
    "X_train_Vectorised = tfidf_sent_vectors"
   ]
  },
  {
   "cell_type": "code",
   "execution_count": 233,
   "metadata": {},
   "outputs": [],
   "source": [
    "tfidf_sent_vectors = [];\n",
    "row=0;\n",
    "for sent in X_test.values:  \n",
    "    sent_vec = np.zeros(50) \n",
    "    weight_sum =0;\n",
    "    for word in sent:\n",
    "        try:\n",
    "            vec = w2v_model.wv[word]\n",
    "            tf_idf = final_tfidf_w[row, tfidf_feature.index(word)]\n",
    "            sent_vec += (vec * tf_idf)\n",
    "            weight_sum += tf_idf\n",
    "        except Exception as e: \n",
    "            pass #print(e)\n",
    "            \n",
    "    try:\n",
    "        sent_vec /= weight_sum\n",
    "    except:\n",
    "        print(e)\n",
    "        \n",
    "    tfidf_sent_vectors.append(sent_vec)\n",
    "    row += 1\n",
    "\n",
    "X_test_Vectorised = tfidf_sent_vectors\n",
    "\n",
    "np.where(np.isnan(X_test_Vectorised))\n",
    "X_train_Vectorised = np.nan_to_num(X_train_Vectorised)\n",
    "X_test_Vectorised = np.nan_to_num(X_test_Vectorised)"
   ]
  },
  {
   "cell_type": "code",
   "execution_count": 237,
   "metadata": {},
   "outputs": [
    {
     "name": "stdout",
     "output_type": "stream",
     "text": [
      "\n",
      "The accuracy of the knn classifier for alpha = 6 is 85.833333%\n"
     ]
    }
   ],
   "source": [
    "nb = BernoulliNB(alpha=optimal_alpha)\n",
    "nb.fit(X_train_Vectorised, y_train)\n",
    "pred = nb.predict(X_test_Vectorised)\n",
    "acc = accuracy_score(y_test, pred) * 100\n",
    "train_error=nb.score(X_train_Vectorised, y_train)\n",
    "test_error=nb.score(X_test_Vectorised, y_test)\n",
    "print('\\nThe accuracy of the knn classifier for alpha = %d is %f%%' % (optimal_alpha, acc))"
   ]
  },
  {
   "cell_type": "code",
   "execution_count": 238,
   "metadata": {},
   "outputs": [
    {
     "name": "stdout",
     "output_type": "stream",
     "text": [
      "[[  0  85]\n",
      " [  0 515]]\n"
     ]
    },
    {
     "data": {
      "image/png": "[encoded data removed]",
      "text/plain": [
       "<matplotlib.figure.Figure at 0x1faf9d1d1d0>"
      ]
     },
     "metadata": {},
     "output_type": "display_data"
    }
   ],
   "source": [
    "confusion_matrix_plot(y_test,pred)"
   ]
  },
  {
   "cell_type": "code",
   "execution_count": 239,
   "metadata": {},
   "outputs": [
    {
     "name": "stdout",
     "output_type": "stream",
     "text": [
      "             precision    recall  f1-score   support\n",
      "\n",
      "   negative       0.00      0.00      0.00        85\n",
      "   positive       0.86      1.00      0.92       515\n",
      "\n",
      "avg / total       0.74      0.86      0.79       600\n",
      "\n"
     ]
    }
   ],
   "source": [
    "print(classification_report(y_test,pred))"
   ]
  },
  {
   "cell_type": "code",
   "execution_count": null,
   "metadata": {},
   "outputs": [],
   "source": []
  }
 ],
 "metadata": {
  "kernelspec": {
   "display_name": "Python 3",
   "language": "python",
   "name": "python3"
  },
  "language_info": {
   "codemirror_mode": {
    "name": "ipython",
    "version": 3
   },
   "file_extension": ".py",
   "mimetype": "text/x-python",
   "name": "python",
   "nbconvert_exporter": "python",
   "pygments_lexer": "ipython3",
   "version": "3.6.4"
  }
 },
 "nbformat": 4,
 "nbformat_minor": 2
}
