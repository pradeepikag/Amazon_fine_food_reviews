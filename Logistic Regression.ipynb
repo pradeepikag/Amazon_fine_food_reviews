{
 "cells": [
  {
   "cell_type": "code",
   "execution_count": 1,
   "metadata": {},
   "outputs": [
    {
     "name": "stderr",
     "output_type": "stream",
     "text": [
      "C:\\Users\\prade\\Anaconda3\\lib\\site-packages\\sklearn\\cross_validation.py:41: DeprecationWarning: This module was deprecated in version 0.18 in favor of the model_selection module into which all the refactored classes and functions are moved. Also note that the interface of the new CV iterators are different from that of this module. This module will be removed in 0.20.\n",
      "  \"This module will be removed in 0.20.\", DeprecationWarning)\n"
     ]
    }
   ],
   "source": [
    "%matplotlib inline\n",
    "import warnings\n",
    "warnings.filterwarnings(\"ignore\")\n",
    "\n",
    "import sqlite3\n",
    "import pandas as pd\n",
    "import numpy as np\n",
    "import nltk\n",
    "import string\n",
    "import matplotlib.pyplot as plt\n",
    "import seaborn as sns\n",
    "from sklearn.feature_extraction.text import TfidfTransformer\n",
    "from sklearn.feature_extraction.text import TfidfVectorizer\n",
    "\n",
    "from sklearn.feature_extraction.text import CountVectorizer\n",
    "from sklearn.cross_validation import train_test_split\n",
    "from sklearn.metrics import confusion_matrix\n",
    "from sklearn import metrics\n",
    "from sklearn.metrics import roc_curve, auc\n",
    "from nltk.stem.porter import PorterStemmer\n",
    "\n",
    "import re\n",
    "import string\n",
    "from nltk.corpus import stopwords\n",
    "from nltk.stem import PorterStemmer\n",
    "from nltk.stem.wordnet import WordNetLemmatizer\n",
    "\n",
    "#import packages for w2v\n",
    "from gensim.models import Word2Vec\n",
    "from gensim.models import KeyedVectors\n",
    "import pickle"
   ]
  },
  {
   "cell_type": "code",
   "execution_count": 2,
   "metadata": {},
   "outputs": [],
   "source": [
    "# using the SQLite Table to read data.\n",
    "con = sqlite3.connect('database.sqlite') \n",
    "\n",
    "#filtering only positive and negative reviews i.e. not taking into consideration those reviews with Score=3\n",
    "filtered_data = pd.read_sql_query(\"\"\" SELECT * FROM Reviews WHERE Score != 3 \"\"\", con)"
   ]
  },
  {
   "cell_type": "markdown",
   "metadata": {},
   "source": [
    "# Data Preprocessing"
   ]
  },
  {
   "cell_type": "code",
   "execution_count": 3,
   "metadata": {},
   "outputs": [
    {
     "name": "stdout",
     "output_type": "stream",
     "text": [
      "(525814, 10)\n"
     ]
    },
    {
     "data": {
      "text/html": [
       "<div>\n",
       "<style scoped>\n",
       "    .dataframe tbody tr th:only-of-type {\n",
       "        vertical-align: middle;\n",
       "    }\n",
       "\n",
       "    .dataframe tbody tr th {\n",
       "        vertical-align: top;\n",
       "    }\n",
       "\n",
       "    .dataframe thead th {\n",
       "        text-align: right;\n",
       "    }\n",
       "</style>\n",
       "<table border=\"1\" class=\"dataframe\">\n",
       "  <thead>\n",
       "    <tr style=\"text-align: right;\">\n",
       "      <th></th>\n",
       "      <th>Id</th>\n",
       "      <th>ProductId</th>\n",
       "      <th>UserId</th>\n",
       "      <th>ProfileName</th>\n",
       "      <th>HelpfulnessNumerator</th>\n",
       "      <th>HelpfulnessDenominator</th>\n",
       "      <th>Score</th>\n",
       "      <th>Time</th>\n",
       "      <th>Summary</th>\n",
       "      <th>Text</th>\n",
       "    </tr>\n",
       "  </thead>\n",
       "  <tbody>\n",
       "    <tr>\n",
       "      <th>0</th>\n",
       "      <td>1</td>\n",
       "      <td>B001E4KFG0</td>\n",
       "      <td>A3SGXH7AUHU8GW</td>\n",
       "      <td>delmartian</td>\n",
       "      <td>1</td>\n",
       "      <td>1</td>\n",
       "      <td>1</td>\n",
       "      <td>1303862400</td>\n",
       "      <td>Good Quality Dog Food</td>\n",
       "      <td>I have bought several of the Vitality canned d...</td>\n",
       "    </tr>\n",
       "    <tr>\n",
       "      <th>1</th>\n",
       "      <td>2</td>\n",
       "      <td>B00813GRG4</td>\n",
       "      <td>A1D87F6ZCVE5NK</td>\n",
       "      <td>dll pa</td>\n",
       "      <td>0</td>\n",
       "      <td>0</td>\n",
       "      <td>0</td>\n",
       "      <td>1346976000</td>\n",
       "      <td>Not as Advertised</td>\n",
       "      <td>Product arrived labeled as Jumbo Salted Peanut...</td>\n",
       "    </tr>\n",
       "    <tr>\n",
       "      <th>2</th>\n",
       "      <td>3</td>\n",
       "      <td>B000LQOCH0</td>\n",
       "      <td>ABXLMWJIXXAIN</td>\n",
       "      <td>Natalia Corres \"Natalia Corres\"</td>\n",
       "      <td>1</td>\n",
       "      <td>1</td>\n",
       "      <td>1</td>\n",
       "      <td>1219017600</td>\n",
       "      <td>\"Delight\" says it all</td>\n",
       "      <td>This is a confection that has been around a fe...</td>\n",
       "    </tr>\n",
       "    <tr>\n",
       "      <th>3</th>\n",
       "      <td>4</td>\n",
       "      <td>B000UA0QIQ</td>\n",
       "      <td>A395BORC6FGVXV</td>\n",
       "      <td>Karl</td>\n",
       "      <td>3</td>\n",
       "      <td>3</td>\n",
       "      <td>0</td>\n",
       "      <td>1307923200</td>\n",
       "      <td>Cough Medicine</td>\n",
       "      <td>If you are looking for the secret ingredient i...</td>\n",
       "    </tr>\n",
       "    <tr>\n",
       "      <th>4</th>\n",
       "      <td>5</td>\n",
       "      <td>B006K2ZZ7K</td>\n",
       "      <td>A1UQRSCLF8GW1T</td>\n",
       "      <td>Michael D. Bigham \"M. Wassir\"</td>\n",
       "      <td>0</td>\n",
       "      <td>0</td>\n",
       "      <td>1</td>\n",
       "      <td>1350777600</td>\n",
       "      <td>Great taffy</td>\n",
       "      <td>Great taffy at a great price.  There was a wid...</td>\n",
       "    </tr>\n",
       "  </tbody>\n",
       "</table>\n",
       "</div>"
      ],
      "text/plain": [
       "   Id   ProductId          UserId                      ProfileName  \\\n",
       "0   1  B001E4KFG0  A3SGXH7AUHU8GW                       delmartian   \n",
       "1   2  B00813GRG4  A1D87F6ZCVE5NK                           dll pa   \n",
       "2   3  B000LQOCH0   ABXLMWJIXXAIN  Natalia Corres \"Natalia Corres\"   \n",
       "3   4  B000UA0QIQ  A395BORC6FGVXV                             Karl   \n",
       "4   5  B006K2ZZ7K  A1UQRSCLF8GW1T    Michael D. Bigham \"M. Wassir\"   \n",
       "\n",
       "   HelpfulnessNumerator  HelpfulnessDenominator  Score        Time  \\\n",
       "0                     1                       1      1  1303862400   \n",
       "1                     0                       0      0  1346976000   \n",
       "2                     1                       1      1  1219017600   \n",
       "3                     3                       3      0  1307923200   \n",
       "4                     0                       0      1  1350777600   \n",
       "\n",
       "                 Summary                                               Text  \n",
       "0  Good Quality Dog Food  I have bought several of the Vitality canned d...  \n",
       "1      Not as Advertised  Product arrived labeled as Jumbo Salted Peanut...  \n",
       "2  \"Delight\" says it all  This is a confection that has been around a fe...  \n",
       "3         Cough Medicine  If you are looking for the secret ingredient i...  \n",
       "4            Great taffy  Great taffy at a great price.  There was a wid...  "
      ]
     },
     "execution_count": 3,
     "metadata": {},
     "output_type": "execute_result"
    }
   ],
   "source": [
    "# Give reviews with Score>3 a positive rating, and reviews with a score<3 a negative rating.\n",
    "def partition(x):\n",
    "    if x < 3:\n",
    "        return 0\n",
    "    return 1\n",
    "\n",
    "#changing reviews with score less than 3 to be positive and vice-versa\n",
    "actualScore = filtered_data['Score']\n",
    "positiveNegative = actualScore.map(partition) \n",
    "filtered_data['Score'] = positiveNegative\n",
    "\n",
    "print(filtered_data.shape) #looking at the number of attributes and size of the data\n",
    "filtered_data.head()"
   ]
  },
  {
   "cell_type": "code",
   "execution_count": 4,
   "metadata": {},
   "outputs": [
    {
     "data": {
      "text/plain": [
       "(364173, 10)"
      ]
     },
     "execution_count": 4,
     "metadata": {},
     "output_type": "execute_result"
    }
   ],
   "source": [
    "import datetime\n",
    "filtered_data[\"Time\"]=pd.to_datetime(filtered_data[\"Time\"], format='%Y-%m-%d %H:%M:%S')\n",
    "\n",
    "#Sorting data according to ProductId in ascending order\n",
    "sorted_data=filtered_data.sort_values('ProductId', axis=0, ascending=True, inplace=False, kind='quicksort', na_position='last')\n",
    "\n",
    "#Deduplication of entries\n",
    "final=sorted_data.drop_duplicates(subset={\"UserId\",\"ProfileName\",\"Time\",\"Text\"}, keep='first', inplace=False)\n",
    "final.shape"
   ]
  },
  {
   "cell_type": "code",
   "execution_count": 5,
   "metadata": {},
   "outputs": [
    {
     "data": {
      "text/plain": [
       "69.25890143662969"
      ]
     },
     "execution_count": 5,
     "metadata": {},
     "output_type": "execute_result"
    }
   ],
   "source": [
    "#Checking to see how much % of data still remains\n",
    "(final['Id'].size*1.0)/(filtered_data['Id'].size*1.0)*100"
   ]
  },
  {
   "cell_type": "code",
   "execution_count": 6,
   "metadata": {},
   "outputs": [
    {
     "name": "stdout",
     "output_type": "stream",
     "text": [
      "(364173, 10)\n"
     ]
    }
   ],
   "source": [
    "#sording data by timestamp so that it can be divided in train and test dataset for time based slicing.\n",
    "final = final.sort_values('Time',axis=0,kind=\"quicksort\", ascending=True).reset_index(drop=True)\n",
    "\n",
    "print(final.shape)"
   ]
  },
  {
   "cell_type": "code",
   "execution_count": 7,
   "metadata": {},
   "outputs": [
    {
     "name": "stdout",
     "output_type": "stream",
     "text": [
      "(2000, 10)\n"
     ]
    },
    {
     "data": {
      "text/plain": [
       "<matplotlib.axes._subplots.AxesSubplot at 0x18e09f88748>"
      ]
     },
     "execution_count": 7,
     "metadata": {},
     "output_type": "execute_result"
    },
    {
     "data": {
      "image/png": "[encoded data removed]",
      "text/plain": [
       "<matplotlib.figure.Figure at 0x18e7fde0f28>"
      ]
     },
     "metadata": {},
     "output_type": "display_data"
    }
   ],
   "source": [
    "final=final[final.HelpfulnessNumerator<=final.HelpfulnessDenominator]\n",
    "final=final.sample(2000, replace=True)\n",
    "print(final.shape)\n",
    "\n",
    "#To know how many positive and negative reviews are present in our dataset\n",
    "final['Score'].value_counts()\n",
    "final['Score'].value_counts().plot(kind='bar')"
   ]
  },
  {
   "cell_type": "markdown",
   "metadata": {},
   "source": [
    "# Removing stopwords, punctuation and then we do stemming"
   ]
  },
  {
   "cell_type": "code",
   "execution_count": 8,
   "metadata": {},
   "outputs": [
    {
     "name": "stdout",
     "output_type": "stream",
     "text": [
      "{\"should've\", \"you'll\", 'until', \"that'll\", \"you've\", 'will', 'this', 'now', 'be', 'own', \"mightn't\", 'had', 'those', 'ma', 't', 'same', 'herself', 'wouldn', 'your', \"don't\", 'on', 'do', 'off', 'under', 'have', 'she', 'is', 'that', 'm', \"shouldn't\", 'yourself', \"she's\", 'again', 'them', \"hasn't\", 'i', 'are', 'did', 'was', 'where', \"doesn't\", 'here', 'hers', \"isn't\", 'couldn', 'for', 'in', 'but', 'y', 'its', 'itself', 'or', 'out', 'before', 'don', 'should', 'only', 'been', 'whom', \"needn't\", 'at', \"wasn't\", 'it', 'mustn', 'haven', \"you're\", 'myself', 'what', 'who', 'didn', 'of', 'an', 've', \"hadn't\", 'needn', 'a', 'isn', 'above', 'having', 'about', 'when', 'too', 'won', 'were', 'has', 'any', 'into', 'we', 'does', 'll', 'doesn', 'some', 's', 'him', \"aren't\", 'the', 'no', 'why', 'other', 'up', 'his', \"it's\", 'because', 'themselves', \"won't\", 'yourselves', 'doing', 'yours', 'as', 'than', 'most', 're', 'my', 'being', 'am', 'against', 'very', 'himself', 'if', 'they', 'weren', 'wasn', 'mightn', 'while', 'and', 'hasn', 'shan', 'just', 'both', 'd', 'me', 'over', 'o', \"couldn't\", 'from', 'our', 'more', 'through', 'their', \"you'd\", 'you', 'then', 'with', 'these', 'once', 'hadn', 'nor', \"weren't\", 'not', \"haven't\", 'theirs', 'there', 'shouldn', 'ourselves', \"didn't\", 'after', 'ain', 'how', 'he', 'between', \"wouldn't\", 'aren', 'below', 'down', 'ours', 'few', 'each', 'all', 'during', 'so', 'such', \"shan't\", \"mustn't\", 'by', 'can', 'to', 'which', 'further', 'her'}\n",
      "************************************\n",
      "tasti\n"
     ]
    }
   ],
   "source": [
    "from nltk.corpus import stopwords\n",
    "stop = set(stopwords.words('english')) #set of stopwords\n",
    "sno = nltk.stem.SnowballStemmer('english') #initialising the snowball stemmer\n",
    "\n",
    "def cleanhtml(sentence): #function to clean the word of any html-tags\n",
    "    cleanr = re.compile('<.*?>')\n",
    "    cleantext = re.sub(cleanr, ' ', sentence)\n",
    "    return cleantext\n",
    "def cleanpunc(sentence): #function to clean the word of any punctuation or special characters\n",
    "    cleaned = re.sub(r'[?|!|\\'|\"|#]',r'',sentence)\n",
    "    cleaned = re.sub(r'[.|,|)|(|\\|/]',r' ',cleaned)\n",
    "    return  cleaned\n",
    "print(stop)\n",
    "print('************************************')\n",
    "print(sno.stem('tasty'))"
   ]
  },
  {
   "cell_type": "code",
   "execution_count": 9,
   "metadata": {},
   "outputs": [],
   "source": [
    "i=0\n",
    "str1=' '\n",
    "final_string=[]\n",
    "all_positive_words=[] # store words from +ve reviews here\n",
    "all_negative_words=[] # store words from -ve reviews here.\n",
    "s=''\n",
    "for sent in final['Text'].values:\n",
    "    filtered_sentence=[]\n",
    "    #print(sent);\n",
    "    sent=cleanhtml(sent) # remove HTMl tags\n",
    "    for w in sent.split():\n",
    "        for cleaned_words in cleanpunc(w).split():\n",
    "            if((cleaned_words.isalpha()) & (len(cleaned_words)>2)):    \n",
    "                if(cleaned_words.lower() not in stop):\n",
    "                    s=(sno.stem(cleaned_words.lower())).encode('utf8')\n",
    "                    filtered_sentence.append(s)\n",
    "                    if (final['Score'].values)[i] == 1: \n",
    "                        all_positive_words.append(s) #list of all words used to describe positive reviews\n",
    "                    if(final['Score'].values)[i] == 0:\n",
    "                        all_negative_words.append(s) #list of all words used to describe negative reviews reviews\n",
    "                else:\n",
    "                    continue\n",
    "            else:\n",
    "                continue \n",
    "    #print(filtered_sentence)\n",
    "    str1 = b\" \".join(filtered_sentence) #final string of cleaned words\n",
    "    #print(\"***********************************************************************\")\n",
    "    \n",
    "    final_string.append(str1)\n",
    "    i+=1"
   ]
  },
  {
   "cell_type": "code",
   "execution_count": 10,
   "metadata": {},
   "outputs": [
    {
     "name": "stdout",
     "output_type": "stream",
     "text": [
      "161316    new newton fruit thin like tradtion fig newton...\n",
      "302124    shop tea ive learn brand name matter alway loo...\n",
      "238594    look like pretti decent coffe suitabl espresso...\n",
      "265877    great pair premium edg salmon sweet potato dog...\n",
      "297517    pleas combin bottl bottl stubb regular sauc ma...\n",
      "248678    expens fruitcak market expect least well made ...\n",
      "63095     browni point great custom servic browni truli ...\n",
      "29951     great tast crunch kid enjoy doesnt get star bi...\n",
      "89447     thrill could get rees creami peanut butter liv...\n",
      "85585     barbara peanut butter puffin addict care crunc...\n",
      "342808    youv use ghee butter eat strict paleo eat regi...\n",
      "113384    women listen tea tea mani good properti simpli...\n",
      "151215    excit amazon final stock perfect tear smaller ...\n",
      "361682    review say hard use room temperatur hard rock ...\n",
      "69611     everyth flavor pretzel crisp snack factori fla...\n",
      "176842    item list palet water plus howev receiv case w...\n",
      "86730     auto ship terrif way get hard find dog food li...\n",
      "181298    product tast similiar kix gluten free daughter...\n",
      "280638    love use coffe creamer well plain greek yogurt...\n",
      "119201    dont often way write review tri free sampl bar...\n",
      "113755    eat erewhon crispi brown rice day day month wi...\n",
      "254857    seedl appear week give littl bit patienc itll ...\n",
      "64500     like savori tast beef heart wont disappoint pr...\n",
      "253420    muffin good low calori muffin use whole egg in...\n",
      "24403     first would like say hand haribo make best gum...\n",
      "121676    sweetleaf stevia use anymor cant beat price ge...\n",
      "95907     seller ship quick great bargain compar superma...\n",
      "5389      coffe busi order various whole bean coffe amaz...\n",
      "349569    excit buy tri first time intern flight thought...\n",
      "196604    great calori count need measur guess portion s...\n",
      "                                ...                        \n",
      "209982    tri water day hype hype forget dont wast money...\n",
      "163485    first celesti season make great tea use combin...\n",
      "357479    coffe coffe husband drink move west coast get ...\n",
      "98071              rich tast tea excel hot tea look caffein\n",
      "324598    realli impress new line shampoo condition clea...\n",
      "125874    wow short shot amaz perfect spici great size t...\n",
      "47071     find excel qualiti almond reson price realli g...\n",
      "194888    small swedish fish arriv good condit fresh yum...\n",
      "17239     soy milk tast good drink toddler drink found w...\n",
      "121216    first introduc luxardo gourmet cherri eiffel t...\n",
      "346660    cant say whether true health promot effect exc...\n",
      "60145     buy son avers fresh fruit veg like made real f...\n",
      "173836    pleas order eat green appl everi day add point...\n",
      "347840    free item review drink lot herbal tea like kee...\n",
      "275167    last time ate chocol ago cant forget delici ta...\n",
      "186389    stuff smell tast delici flavor last make big c...\n",
      "128338    look cracker bring holiday gather could munch ...\n",
      "131663    like american ive never regular hot tea drinke...\n",
      "152459    love cracker light crisp doesnt lot calori don...\n",
      "292470    order singl box amazon receiv today sit drink ...\n",
      "362349    agre negat review item rubberi extrem salti ha...\n",
      "282547    use product everi spring fall tree shrub flour...\n",
      "34209     concern recd product made china number stick b...\n",
      "53413     love fruit decid purchas product dont wast mon...\n",
      "231562    love chocol bar glad find amazon com arriv pro...\n",
      "361610    starbuck fan sumatra favorit among dark roast ...\n",
      "12996     mislead list bottl contain one percent oil sus...\n",
      "282058    basket made three granddaught happi wonder arr...\n",
      "176497    great tast tea mellow flavor without aftertast...\n",
      "363271            thing like crack dog sure doggi sure love\n",
      "Name: CleanedText, Length: 2000, dtype: object\n"
     ]
    }
   ],
   "source": [
    "final['CleanedText']=final_string #adding a column of CleanedText which displays the data after pre-processing of the review \n",
    "final['CleanedText']=final['CleanedText'].str.decode(\"utf-8\")\n",
    "print(final['CleanedText'])"
   ]
  },
  {
   "cell_type": "code",
   "execution_count": 11,
   "metadata": {},
   "outputs": [],
   "source": [
    "final.head(3) #below the processed review can be seen in the CleanedText Column \n",
    "\n",
    "# store final table into an SQlLite table for future.\n",
    "conn = sqlite3.connect('final.sqlite')\n",
    "c=conn.cursor()\n",
    "conn.text_factory = str\n",
    "final.to_sql('Reviews', conn,  schema=None, if_exists='replace', index=True, index_label=None, chunksize=None, dtype=None)"
   ]
  },
  {
   "cell_type": "code",
   "execution_count": 12,
   "metadata": {},
   "outputs": [],
   "source": [
    "#Plotting the confusion matrix\n",
    "from sklearn.metrics import confusion_matrix\n",
    "def confusion_matrix_plot(y_test,pred):\n",
    "    labels = ['negative','positive']\n",
    "    cm = confusion_matrix(y_test, pred, labels)\n",
    "    print(cm)\n",
    "    fig = plt.figure()\n",
    "    ax = fig.add_subplot(111)\n",
    "    sns.heatmap(cm, annot=True, ax = ax, fmt='g')\n",
    "    cax = ax.matshow(cm)\n",
    "    plt.title('Confusion matrix of the classifier')\n",
    "    #fig.colorbar(cax)\n",
    "    ax.set_xticklabels([''] + labels)\n",
    "    ax.set_yticklabels([''] + labels)\n",
    "    plt.xlabel('Predicted')\n",
    "    plt.ylabel('True')\n",
    "    plt.show()"
   ]
  },
  {
   "cell_type": "markdown",
   "metadata": {},
   "source": [
    "# Splitting and saving the data into respective files"
   ]
  },
  {
   "cell_type": "code",
   "execution_count": 13,
   "metadata": {},
   "outputs": [],
   "source": [
    "X = final['CleanedText']\n",
    "y = final['Score']\n",
    "X_train, X_test, y_train, y_test = train_test_split(X, y, test_size=0.3, random_state=0)"
   ]
  },
  {
   "cell_type": "code",
   "execution_count": 14,
   "metadata": {},
   "outputs": [
    {
     "data": {
      "text/plain": [
       "\"import pickle\\nfilename1 = 'train_data.sav'\\npickle.dump(X_train, open(filename1, 'wb'))\\n\\nfilename2 = 'test_data.sav'\\npickle.dump(X_test, open(filename2, 'wb'))\\n\\nX_train1 = pickle.load(open(filename1, 'rb'))\\nX_test1 = pickle.load(open(filename2, 'rb'))\\nimport math\\n\\nX_train =  X[:math.ceil(len(final)*.7)] \\nX_test = X[math.ceil(len(final)*.7):]\\ny_train = y[:math.ceil(len(final)*.7)]\\ny_test =  y[math.ceil(len(final)*.7):]\""
      ]
     },
     "execution_count": 14,
     "metadata": {},
     "output_type": "execute_result"
    }
   ],
   "source": [
    "# save the data to disk\n",
    "\"\"\"import pickle\n",
    "filename1 = 'train_data.sav'\n",
    "pickle.dump(X_train, open(filename1, 'wb'))\n",
    "\n",
    "filename2 = 'test_data.sav'\n",
    "pickle.dump(X_test, open(filename2, 'wb'))\n",
    "\n",
    "X_train1 = pickle.load(open(filename1, 'rb'))\n",
    "X_test1 = pickle.load(open(filename2, 'rb'))\n",
    "import math\n",
    "\n",
    "X_train =  X[:math.ceil(len(final)*.7)] \n",
    "X_test = X[math.ceil(len(final)*.7):]\n",
    "y_train = y[:math.ceil(len(final)*.7)]\n",
    "y_test =  y[math.ceil(len(final)*.7):]\"\"\""
   ]
  },
  {
   "cell_type": "markdown",
   "metadata": {},
   "source": [
    "# Bag of Words"
   ]
  },
  {
   "cell_type": "code",
   "execution_count": 15,
   "metadata": {},
   "outputs": [],
   "source": [
    "count_vect = CountVectorizer(ngram_range=(1,2)) \n",
    "final_bow_count = count_vect.fit_transform(X_train)"
   ]
  },
  {
   "cell_type": "code",
   "execution_count": 16,
   "metadata": {},
   "outputs": [
    {
     "data": {
      "text/plain": [
       "(600, 46143)"
      ]
     },
     "execution_count": 16,
     "metadata": {},
     "output_type": "execute_result"
    }
   ],
   "source": [
    "X_test_vec= count_vect.transform(X_test)\n",
    "X_test_vec.shape"
   ]
  },
  {
   "cell_type": "code",
   "execution_count": 17,
   "metadata": {},
   "outputs": [
    {
     "data": {
      "text/plain": [
       "'from sklearn.preprocessing import StandardScaler\\n\\nscalar=StandardScaler()\\n#X, y = digits.data, digits.target\\nfinal_bow_count = scalar.fit_transform(final_bow_count)\\nX_test_vec = scalar.transform(X_test_vec)'"
      ]
     },
     "execution_count": 17,
     "metadata": {},
     "output_type": "execute_result"
    }
   ],
   "source": [
    "\"\"\"from sklearn.preprocessing import StandardScaler\n",
    "\n",
    "scalar=StandardScaler()\n",
    "#X, y = digits.data, digits.target\n",
    "final_bow_count = scalar.fit_transform(final_bow_count)\n",
    "X_test_vec = scalar.transform(X_test_vec)\"\"\""
   ]
  },
  {
   "cell_type": "code",
   "execution_count": 18,
   "metadata": {},
   "outputs": [],
   "source": [
    "\n",
    "f1 = 'bow_train_data.sav'\n",
    "pickle.dump([final_bow_count,y_train], open(f1, 'wb'))\n",
    "\n",
    "f2 = 'test_data.sav'\n",
    "pickle.dump([X_test_vec,y_test], open(f2, 'wb'))\n",
    "\n",
    "bow_train = pickle.load(open(f1, 'rb'))\n",
    "bow_test = pickle.load(open(f2, 'rb'))"
   ]
  },
  {
   "cell_type": "markdown",
   "metadata": {},
   "source": [
    "# Choosing best hyperparameters (C, penalty)"
   ]
  },
  {
   "cell_type": "code",
   "execution_count": 19,
   "metadata": {},
   "outputs": [
    {
     "name": "stderr",
     "output_type": "stream",
     "text": [
      "C:\\Users\\prade\\Anaconda3\\lib\\site-packages\\sklearn\\grid_search.py:42: DeprecationWarning: This module was deprecated in version 0.18 in favor of the model_selection module into which all the refactored classes and functions are moved. This module will be removed in 0.20.\n",
      "  DeprecationWarning)\n"
     ]
    }
   ],
   "source": [
    "from sklearn.model_selection import train_test_split\n",
    "from sklearn.grid_search import GridSearchCV\n",
    "from sklearn.datasets import *\n",
    "from sklearn.linear_model import LogisticRegression\n",
    "from scipy.stats import uniform\n",
    "\n",
    "def grid_optimal_C(final_bow_count, y_train): \n",
    "    #final_bow_count, y_train\n",
    "    penalty = ['l1', 'l2']\n",
    "    C= [10**-4, 10**-2, 10**0, 10**2, 10**4]\n",
    "    \n",
    "    hyperparameters = dict(C=C, penalty=penalty)\n",
    "    X_train, X_test, y_train, y_test = train_test_split(final_bow_count, y_train, test_size=0.3)\n",
    "    \n",
    "\n",
    "    #Using GridSearchCV\n",
    "    model = GridSearchCV(LogisticRegression(), hyperparameters, scoring = 'f1', cv=5, n_jobs=5)\n",
    "    model.fit(X_train, y_train)\n",
    "    \n",
    "    opt_val=model.best_estimator_.get_params()['C']\n",
    "    best_penalty=model.best_estimator_.get_params()['penalty']\n",
    "    \n",
    "    return opt_val,best_penalty\n"
   ]
  },
  {
   "cell_type": "code",
   "execution_count": 20,
   "metadata": {},
   "outputs": [],
   "source": [
    "from sklearn.model_selection import RandomizedSearchCV\n",
    "import random\n",
    "def randomsearch_optimal_C(final_bow_count, y_train):\n",
    "    # Create regularization penalty space\n",
    "    penalty = ['l1', 'l2']\n",
    "    X_train, X_test, y_train, y_test = train_test_split(final_bow_count, y_train, test_size=0.3)\n",
    "\n",
    "    # Create regularization hyperparameter distribution using uniform distribution\n",
    "    C = uniform(loc=0, scale=1)\n",
    "\n",
    "    # Create hyperparameter options\n",
    "    hyperparameters = dict(C=C, penalty=penalty)\n",
    "    clf = RandomizedSearchCV(LogisticRegression(), hyperparameters, random_state=1, n_iter=1, cv=5, verbose=0, n_jobs=-1)\n",
    "    best_model = clf.fit(X_train, y_train)\n",
    "    # View best hyperparameters\n",
    "    print('Best Penalty:', best_model.best_estimator_.get_params()['penalty'])\n",
    "    print('Best C:', best_model.best_estimator_.get_params()['C'])\n",
    "    # Predict target vector\n",
    "    opt_val=best_model.best_estimator_.get_params()['C']\n",
    "    best_penalty=best_model.best_estimator_.get_params()['penalty']\n",
    "    \n",
    "    return opt_val,best_penalty"
   ]
  },
  {
   "cell_type": "markdown",
   "metadata": {},
   "source": [
    "# Applying LR"
   ]
  },
  {
   "cell_type": "code",
   "execution_count": 21,
   "metadata": {},
   "outputs": [
    {
     "name": "stdout",
     "output_type": "stream",
     "text": [
      "10000\n",
      "Coefficient of each feature: [[0. 0. 0. ... 0. 0. 0.]]\n",
      "Training accuracy: 1.0\n",
      "Test accuracy: 0.8933333333333333\n"
     ]
    }
   ],
   "source": [
    "from sklearn import cross_validation\n",
    "from sklearn.metrics import classification_report,confusion_matrix, accuracy_score\n",
    "\n",
    "opt_C,best_penalty = grid_optimal_C(bow_train[0],bow_train[1])\n",
    "lr = LogisticRegression(C=opt_C, penalty=best_penalty);\n",
    "lr.fit(bow_train[0],bow_train[1]);\n",
    "pred = lr.predict(bow_test[0])\n",
    "# y_test = count_vect.fit_transform(y_test)\n",
    "acc = accuracy_score(bow_test[1], pred) * 100\n",
    "print(opt_C)\n",
    "before_peturbation=lr.coef_\n",
    "print('Coefficient of each feature:', lr.coef_)\n",
    "print('Training accuracy:', lr.score(bow_train[0],bow_train[1]))\n",
    "print('Test accuracy:', lr.score(bow_test[0],bow_test[1]))"
   ]
  },
  {
   "cell_type": "code",
   "execution_count": 23,
   "metadata": {},
   "outputs": [
    {
     "name": "stdout",
     "output_type": "stream",
     "text": [
      "Best Penalty: l1\n",
      "Best C: 0.417022004702574\n",
      "10000\n",
      "Coefficient of each feature: [[0. 0. 0. ... 0. 0. 0.]]\n",
      "Training accuracy: 0.9107142857142857\n",
      "Test accuracy: 0.8816666666666667\n"
     ]
    }
   ],
   "source": [
    "opt,best_penalty=randomsearch_optimal_C(bow_train[0],bow_train[1])\n",
    "lr = LogisticRegression(C=opt, penalty=best_penalty);\n",
    "lr.fit(bow_train[0],bow_train[1]);\n",
    "pred = lr.predict(bow_test[0])\n",
    "# y_test = count_vect.fit_transform(y_test)\n",
    "acc = accuracy_score(bow_test[1], pred) * 100\n",
    "print(opt_C)\n",
    "print('Coefficient of each feature:', lr.coef_)\n",
    "print('Training accuracy:', lr.score(bow_train[0],bow_train[1]))\n",
    "print('Test accuracy:', lr.score(bow_test[0],bow_test[1]))"
   ]
  },
  {
   "cell_type": "markdown",
   "metadata": {},
   "source": [
    "# L1 regularization : Reprting Sparsity and Error"
   ]
  },
  {
   "cell_type": "code",
   "execution_count": 24,
   "metadata": {},
   "outputs": [
    {
     "name": "stdout",
     "output_type": "stream",
     "text": [
      "C=0.01\n",
      "Sparsity with L1 penalty: 93.47%\n",
      "score with L1 penalty: 1.0000\n",
      "C=1.00\n",
      "Sparsity with L1 penalty: 93.55%\n",
      "score with L1 penalty: 1.0000\n",
      "C=100.00\n",
      "Sparsity with L1 penalty: 93.42%\n",
      "score with L1 penalty: 1.0000\n"
     ]
    }
   ],
   "source": [
    "# Set regularization parameter\n",
    "for i, C in enumerate((0.01, 1, 100)):\n",
    "    # turn down tolerance for short training time\n",
    "    clf_l1_LR = LogisticRegression(C=opt_C, penalty='l1')\n",
    "    clf_l1_LR.fit(bow_train[0],bow_train[1])\n",
    "\n",
    "    coef_l1_LR = clf_l1_LR.coef_.ravel()\n",
    "    #print(coef_l1_LR)\n",
    "\n",
    "    # coef_l1_LR contains zeros due to the\n",
    "    # L1 sparsity inducing norm\n",
    "\n",
    "    sparsity_l1_LR = np.mean(coef_l1_LR == 0) * 100\n",
    "\n",
    "    print(\"C=%.2f\" % C)\n",
    "    print(\"Sparsity with L1 penalty: %.2f%%\" % sparsity_l1_LR)\n",
    "    print(\"score with L1 penalty: %.4f\" % clf_l1_LR.score(bow_train[0],bow_train[1]))\n",
    "    "
   ]
  },
  {
   "cell_type": "markdown",
   "metadata": {},
   "source": [
    "# Checking for Multi-collinearity"
   ]
  },
  {
   "cell_type": "code",
   "execution_count": 25,
   "metadata": {},
   "outputs": [
    {
     "name": "stdout",
     "output_type": "stream",
     "text": [
      "8\n",
      "Best Penalty: l1\n",
      "Best C: 0.417022004702574\n",
      "10000\n",
      "Before_peturbation [[0. 0. 0. ... 0. 0. 0.]]\n",
      "After_peturbation [[0. 0. 0. ... 0. 0. 0.]]\n",
      "Differences in coefficients [[0. 0. 0. ... 0. 0. 0.]]\n"
     ]
    }
   ],
   "source": [
    "import numpy as np\n",
    "\n",
    "i = random.randint(1,10)\n",
    "print(i)\n",
    "f=bow_train[0]\n",
    "x = np.array([i])\n",
    "noise1=np.broadcast_to(x, (f.shape[0],f.shape[1]))\n",
    "#print(noise1)\n",
    "final_bow_count=final_bow_count+noise1\n",
    "opt,best_penalty=randomsearch_optimal_C(bow_train[0],bow_train[1])\n",
    "lr = LogisticRegression(C=opt, penalty=best_penalty);\n",
    "lr.fit(bow_train[0],bow_train[1]);\n",
    "pred = lr.predict(bow_test[0])\n",
    "acc = accuracy_score(bow_test[1], pred) * 100\n",
    "after_peturbation=lr.coef_\n",
    "print(opt_C)\n",
    "multi_collinearity=after_peturbation-before_peturbation\n",
    "print('Before_peturbation',before_peturbation)\n",
    "print('After_peturbation',after_peturbation)\n",
    "print('Differences in coefficients',multi_collinearity)"
   ]
  },
  {
   "cell_type": "code",
   "execution_count": 26,
   "metadata": {},
   "outputs": [
    {
     "data": {
      "image/png": "[encoded data removed]",
      "text/plain": [
       "<matplotlib.figure.Figure at 0x18e02ab5dd8>"
      ]
     },
     "metadata": {},
     "output_type": "display_data"
    }
   ],
   "source": [
    "import matplotlib.pyplot as plt\n",
    "plt.plot(after_peturbation)\n",
    "plt.ylabel('some numbers')\n",
    "plt.xlabel('coefficients')\n",
    "plt.show()"
   ]
  },
  {
   "cell_type": "markdown",
   "metadata": {},
   "source": [
    "# Important Features"
   ]
  },
  {
   "cell_type": "code",
   "execution_count": null,
   "metadata": {},
   "outputs": [],
   "source": [
    "neg_class_prob_sorted = lr.feature_log_prob_[0, :].argsort()\n",
    "pos_class_prob_sorted = lr.feature_log_prob_[1, :].argsort()\n",
    "\n",
    "#Sorting the features in the order of importance and printing the top 10 features\n",
    "print(np.take(count_vect.get_feature_names(), neg_class_prob_sorted[:10]))\n",
    "print(np.take(count_vect.get_feature_names(), pos_class_prob_sorted[:10]))"
   ]
  },
  {
   "cell_type": "code",
   "execution_count": null,
   "metadata": {},
   "outputs": [],
   "source": [
    "#Printing Classification Report\n",
    "from sklearn.metrics import classification_report\n",
    "\n",
    "print(classification_report(y_test,pred))"
   ]
  },
  {
   "cell_type": "code",
   "execution_count": null,
   "metadata": {},
   "outputs": [],
   "source": [
    "#Printing final results\n",
    "from astropy.table import Table, Column\n",
    "t = Table(names=( \"Hyper parameter\", \"Train error\",\"Test error\"), dtype=('i4', 'f4', 'f4'))\n",
    "t.add_row((optimal_alpha, train_error, test_error))\n",
    "print(t)"
   ]
  }
 ],
 "metadata": {
  "kernelspec": {
   "display_name": "Python 3",
   "language": "python",
   "name": "python3"
  },
  "language_info": {
   "codemirror_mode": {
    "name": "ipython",
    "version": 3
   },
   "file_extension": ".py",
   "mimetype": "text/x-python",
   "name": "python",
   "nbconvert_exporter": "python",
   "pygments_lexer": "ipython3",
   "version": "3.6.4"
  }
 },
 "nbformat": 4,
 "nbformat_minor": 2
}
